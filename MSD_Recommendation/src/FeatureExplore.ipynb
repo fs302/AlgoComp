{
 "cells": [
  {
   "cell_type": "code",
   "execution_count": 51,
   "metadata": {},
   "outputs": [],
   "source": [
    "import hdf5_getters\n",
    "import numpy as np\n",
    "import pandas as pd\n",
    "import urllib"
   ]
  },
  {
   "cell_type": "code",
   "execution_count": 2,
   "metadata": {},
   "outputs": [],
   "source": [
    "h5_file = '/Users/shenfan/Code/Project/AlgoComp/MSD_Recommendation/MillionSongSubset/data/a/A/A/TRAAAMO128F1481E7F.h5'"
   ]
  },
  {
   "cell_type": "code",
   "execution_count": 11,
   "metadata": {},
   "outputs": [
    {
     "name": "stdout",
     "output_type": "stream",
     "text": [
      " analysis_sample_rate: 22050\n",
      "artist_7digitalid: 432935\n",
      "artist_familiarity: 0.5352927355118197\n",
      "artist_hotttnesss: 0.385470550555821\n",
      "artist_id: ARKFYS91187B98E58F\n",
      "artist_latitude: nan\n",
      "artist_location: \n",
      "artist_longitude: nan\n",
      "artist_mbid: 79c403f9-5467-4f23-8426-9ca3fc60a115\n",
      "artist_mbtags: shape = (0,)\n",
      "artist_mbtags_count: shape = (0,)\n",
      "artist_name: Jeff And Sheri Easter\n",
      "artist_playmeid: 63801\n",
      "artist_terms: shape = (35,)\n",
      "artist_terms_freq: shape = (35,)\n",
      "artist_terms_weight: shape = (35,)\n",
      "audio_md5: 8ee90e90bb8714300574486f379effb5\n",
      "bars_confidence: shape = (210,)\n",
      "bars_start: shape = (210,)\n",
      "beats_confidence: shape = (633,)\n",
      "beats_start: shape = (633,)\n",
      "danceability: 0.0\n",
      "duration: 267.7024\n",
      "end_of_fade_in: 2.264\n",
      "energy: 0.0\n",
      "key: 5\n",
      "key_confidence: 0.635\n",
      "loudness: -9.323\n",
      "mode: 1\n",
      "mode_confidence: 0.557\n",
      "release: Ordinary Day\n",
      "release_7digitalid: 41838\n",
      "sections_confidence: shape = (13,)\n",
      "sections_start: shape = (13,)\n",
      "segments_confidence: shape = (835,)\n",
      "segments_loudness_max: shape = (835,)\n",
      "segments_loudness_max_time: shape = (835,)\n",
      "segments_loudness_start: shape = (835,)\n",
      "segments_pitches: shape = (835, 12)\n",
      "segments_start: shape = (835,)\n",
      "segments_timbre: shape = (835, 12)\n",
      "similar_artists: shape = (100,)\n",
      "song_hotttnesss: nan\n",
      "song_id: SOYMRWW12A6D4FAB14\n",
      "start_of_fade_out: 254.27\n",
      "tatums_confidence: shape = (1266,)\n",
      "tatums_start: shape = (1266,)\n",
      "tempo: 147.782\n",
      "time_signature: 3\n",
      "time_signature_confidence: 0.454\n",
      "title: The Moon And I (Ordinary Day Album Version)\n",
      "track_7digitalid: 444964\n",
      "track_id: TRAAAMO128F1481E7F\n",
      "year: 0\n"
     ]
    }
   ],
   "source": [
    "h5 = hdf5_getters.open_h5_file_read(h5_file)\n",
    "getters = filter(lambda x: x[:4] == 'get_', hdf5_getters.__dict__.keys())\n",
    "getters.remove(\"get_num_songs\") # special case\n",
    "onegetter = ''\n",
    "songidx = 0\n",
    "if onegetter == 'num_songs' or onegetter == 'get_num_songs':\n",
    "    getters = []\n",
    "elif onegetter != '':\n",
    "    if onegetter[:4] != 'get_':\n",
    "        onegetter = 'get_' + onegetter\n",
    "    try:\n",
    "        getters.index(onegetter)\n",
    "    except ValueError:\n",
    "        print 'ERROR: getter requested:',onegetter,'does not exist.'\n",
    "        h5.close()\n",
    "        sys.exit(0)\n",
    "    getters = [onegetter]\n",
    "getters = np.sort(getters)\n",
    "\n",
    "# print them\n",
    "for getter in getters:\n",
    "    try:\n",
    "        res = hdf5_getters.__getattribute__(getter)(h5,songidx)\n",
    "    except AttributeError, e:\n",
    "        if summary:\n",
    "            continue\n",
    "        else:\n",
    "            print e\n",
    "            print 'forgot -summary flag? specified wrong getter?'\n",
    "    if res.__class__.__name__ == 'ndarray':\n",
    "        print getter[4:]+\": shape =\",res.shape\n",
    "    else:\n",
    "        print getter[4:]+\":\",res\n",
    "\n",
    "# done\n",
    "h5.close()"
   ]
  },
  {
   "cell_type": "code",
   "execution_count": 12,
   "metadata": {},
   "outputs": [],
   "source": [
    "h5 = hdf5_getters.open_h5_file_read(h5_file)"
   ]
  },
  {
   "cell_type": "code",
   "execution_count": 15,
   "metadata": {},
   "outputs": [],
   "source": [
    "segments_timbre = hdf5_getters.get_segments_timbre(h5)"
   ]
  },
  {
   "cell_type": "code",
   "execution_count": 17,
   "metadata": {},
   "outputs": [
    {
     "data": {
      "text/plain": [
       "array([[ 4.70000e-02,  1.70004e+02,  9.86300e+00, ...,  6.46000e-01,\n",
       "        -9.72700e+00, -7.69500e+00],\n",
       "       [ 3.05600e+00,  1.25824e+02,  4.79640e+01, ...,  1.17230e+01,\n",
       "        -7.90400e+00, -2.92290e+01],\n",
       "       [ 9.25500e+00,  5.20830e+01,  9.65190e+01, ...,  1.95860e+01,\n",
       "        -6.88900e+00, -2.41410e+01],\n",
       "       ...,\n",
       "       [ 4.24070e+01, -2.55960e+01, -2.52890e+01, ...,  6.36000e-01,\n",
       "         3.53000e-01,  1.52090e+01],\n",
       "       [ 3.74390e+01, -5.76080e+01, -7.18290e+01, ..., -1.87380e+01,\n",
       "        -2.30490e+01,  1.03680e+01],\n",
       "       [ 1.78220e+01, -7.44700e+01, -8.21260e+01, ..., -2.44650e+01,\n",
       "        -3.83120e+01,  1.37970e+01]])"
      ]
     },
     "execution_count": 17,
     "metadata": {},
     "output_type": "execute_result"
    }
   ],
   "source": [
    "segments_timbre"
   ]
  },
  {
   "cell_type": "code",
   "execution_count": 18,
   "metadata": {},
   "outputs": [],
   "source": [
    "data_file = '/Users/shenfan/Code/Project/AlgoComp/MSD_Recommendation/msd_summary_file.h5'\n",
    "dataset = hdf5_getters.open_h5_file_read(data_file)"
   ]
  },
  {
   "cell_type": "code",
   "execution_count": 20,
   "metadata": {},
   "outputs": [
    {
     "data": {
      "text/plain": [
       "1000000"
      ]
     },
     "execution_count": 20,
     "metadata": {},
     "output_type": "execute_result"
    }
   ],
   "source": [
    "hdf5_getters.get_num_songs(dataset)"
   ]
  },
  {
   "cell_type": "code",
   "execution_count": 34,
   "metadata": {},
   "outputs": [
    {
     "name": "stdout",
     "output_type": "stream",
     "text": [
      "SOQMMHC12AB0180CB8 Silent Night ARYZTJS1187B98C555 Monster Ballads X-Mas 252.05506 0.6498221002008776 0.3940318927141434 2003 10 0 87.002 -4.829\n",
      "SOVFVAK12A8C1350D9 Tanssi vaan ARMVN3U1187FB3A1EB Karkuteillä 156.55138 0.4396039666767154 0.3569921077564064 1995 9 1 150.778 -10.555\n",
      "SOGTUKN12AB017F4F1 No One Could Ever ARGEKB01187FB50750 Butter 138.97098 0.6436805720579895 0.4375038365946544 2006 7 1 177.768 -2.06\n",
      "SOBNYVR12A8C13558C Si Vos Querés ARNWYLR1187B9B2F9C De Culo 145.05751 0.44850115965646636 0.37234906851712235 2003 7 1 87.433 -4.654\n",
      "SOHSBXH12A8C13B0DF Tangle Of Aspens AREQDTE1269FB37231 Rene Ablaze Presents Winter Sessions 514.29832 0.0 0.0 0 5 0 140.035 -7.806\n",
      "SOZVAPQ12A8C13B63C Symphony No. 1 G minor \"Sinfonie Serieuse\"/Allegro con energia AR2NS5Y1187FB5879D Berwald: Symphonies Nos. 1/2/3/4 816.53506 0.361286979627774 0.10962584705877759 0 10 1 90.689 -21.42\n",
      "SOQVRHI12A6D4FB2D7 We Have Got Love ARO41T51187FB397AB Strictly The Best Vol. 34 212.37506 0.6929227305760355 0.453731585998959 0 3 0 101.45 -4.931\n",
      "SOEYRFT12AB018936C 2 Da Beat Ch'yall AR3Z9WY1187FB4CDC2 Da Bomb 221.20444 0.5881561876748532 0.40109242517712895 1993 11 0 98.02 -12.214\n",
      "SOPMIYT12A6D4F851E Goodbye ARA04401187B991E6E Danny Boy 139.17995 0.4084654634687691 0.28590119604546194 0 5 1 115.427 -10.705\n",
      "SOJCFMH12A8C13B0C2 Mama_ mama can't you see ? ARCVMYS12454A51E6E March to cadence with the US marines 104.48934 0.41994127477041937 0.2491372295395512 0 4 0 124.339 -20.16\n"
     ]
    }
   ],
   "source": [
    "for i in range(10):\n",
    "    songid = hdf5_getters.get_song_id(dataset,i)\n",
    "    trackid = hdf5_getters.get_track_id(dataset,i)\n",
    "    artistid = hdf5_getters.get_artist_id(dataset,i)\n",
    "    release = hdf5_getters.get_release(dataset,i)\n",
    "    duration = hdf5_getters.get_duration(dataset,i)\n",
    "    artist_familiarity = hdf5_getters.get_artist_familiarity(dataset,i)\n",
    "    artist_hotttnesss = hdf5_getters.get_artist_hotttnesss(dataset,i)\n",
    "    year = hdf5_getters.get_year(dataset, i)\n",
    "    key = hdf5_getters.get_key(dataset, i)\n",
    "    mode = hdf5_getters.get_mode(dataset, i)\n",
    "    tempo = hdf5_getters.get_tempo(dataset, i)\n",
    "    loudness = hdf5_getters.get_loudness(dataset, i)\n",
    "    title = hdf5_getters.get_title(dataset, i)\n",
    "    # artist_term = hdf5_getters.get_artist_terms(dataset,i)\n",
    "    # artist_mbtags = hdf5_getters.get_artist_mbtags(dataset,i)\n",
    "    \n",
    "    print songid, artistid, title, release, duration, artist_familiarity, artist_hotttnesss, year, key, mode, tempo, loudness"
   ]
  },
  {
   "cell_type": "code",
   "execution_count": 27,
   "metadata": {},
   "outputs": [],
   "source": [
    "train_dir = \"../train/\"\n",
    "song_file = train_dir+'kaggle_songs.txt'\n",
    "song2id = pd.read_table(song_file,names=['song','songid'],sep=' ',header=None)"
   ]
  },
  {
   "cell_type": "code",
   "execution_count": 40,
   "metadata": {},
   "outputs": [],
   "source": [
    "songs = set(song2id.song)"
   ]
  },
  {
   "cell_type": "code",
   "execution_count": 98,
   "metadata": {},
   "outputs": [],
   "source": [
    "title = urllib.urlencode({'title':'Silent Night'}).split('=')[1]"
   ]
  },
  {
   "cell_type": "code",
   "execution_count": 109,
   "metadata": {},
   "outputs": [
    {
     "data": {
      "text/plain": [
       "1.0"
      ]
     },
     "execution_count": 109,
     "metadata": {},
     "output_type": "execute_result"
    }
   ],
   "source": [
    "round(1.2)"
   ]
  },
  {
   "cell_type": "code",
   "execution_count": 111,
   "metadata": {},
   "outputs": [
    {
     "name": "stdout",
     "output_type": "stream",
     "text": [
      "0\n",
      "10000\n",
      "20000\n",
      "30000\n",
      "40000\n",
      "50000\n",
      "60000\n",
      "70000\n",
      "80000\n",
      "90000\n",
      "100000\n",
      "110000\n",
      "120000\n",
      "130000\n",
      "140000\n",
      "150000\n",
      "160000\n",
      "170000\n",
      "180000\n",
      "190000\n",
      "200000\n",
      "210000\n",
      "220000\n",
      "230000\n",
      "240000\n",
      "250000\n",
      "260000\n",
      "270000\n",
      "280000\n",
      "290000\n",
      "300000\n",
      "310000\n",
      "320000\n",
      "330000\n",
      "340000\n",
      "350000\n",
      "360000\n",
      "370000\n",
      "380000\n",
      "390000\n",
      "400000\n",
      "410000\n",
      "420000\n",
      "430000\n",
      "440000\n",
      "450000\n",
      "460000\n",
      "470000\n",
      "480000\n",
      "490000\n",
      "500000\n",
      "510000\n",
      "520000\n",
      "530000\n",
      "540000\n",
      "550000\n",
      "560000\n",
      "570000\n",
      "580000\n",
      "590000\n",
      "600000\n",
      "610000\n",
      "620000\n",
      "630000\n",
      "640000\n",
      "650000\n",
      "660000\n",
      "670000\n",
      "680000\n",
      "690000\n",
      "700000\n",
      "710000\n",
      "720000\n",
      "730000\n",
      "740000\n",
      "750000\n",
      "760000\n",
      "770000\n",
      "780000\n",
      "790000\n",
      "800000\n",
      "810000\n",
      "820000\n",
      "830000\n",
      "840000\n",
      "850000\n",
      "860000\n",
      "870000\n",
      "880000\n",
      "890000\n",
      "900000\n",
      "910000\n",
      "920000\n",
      "930000\n",
      "940000\n",
      "950000\n",
      "960000\n",
      "970000\n",
      "980000\n",
      "990000\n"
     ]
    }
   ],
   "source": [
    "outfile = train_dir+'msd_song_info.txt'\n",
    "\n",
    "with open(outfile,'w') as f:\n",
    "    columns = ['songid','trackid','title','artistid','artistname','release','duration',\\\n",
    "               'artist_familiarity','artist_hotttnesss','year','key','mode','tempo','loudness']\n",
    "    f.write(','.join(columns)+\"\\n\")\n",
    "    for i in range(1000000):\n",
    "        if i % 10000==0:\n",
    "            print i\n",
    "        songid = hdf5_getters.get_song_id(dataset,i)\n",
    "        if songid in songs:\n",
    "            trackid = hdf5_getters.get_track_id(dataset,i)\n",
    "            title = hdf5_getters.get_title(dataset, i).replace(',','|')\n",
    "            artistid = hdf5_getters.get_artist_id(dataset,i)\n",
    "            artistname = hdf5_getters.get_artist_name(dataset,i)\n",
    "            release = hdf5_getters.get_release(dataset,i).replace(',','|')\n",
    "            duration = hdf5_getters.get_duration(dataset,i)\n",
    "            artist_familiarity = round(hdf5_getters.get_artist_familiarity(dataset,i),6)\n",
    "            artist_hotttnesss = round(hdf5_getters.get_artist_hotttnesss(dataset,i),6)\n",
    "            year = hdf5_getters.get_year(dataset, i)\n",
    "            key = hdf5_getters.get_key(dataset, i)\n",
    "            mode = hdf5_getters.get_mode(dataset, i)\n",
    "            tempo = hdf5_getters.get_tempo(dataset, i)\n",
    "            loudness = hdf5_getters.get_loudness(dataset, i)\n",
    "            tb = (songid,trackid,title,artistid,artistname,release,duration,artist_familiarity,artist_hotttnesss,year,key,mode,tempo,loudness)\n",
    "            f.write(','.join([str(v) for v in tb])+'\\n')\n"
   ]
  },
  {
   "cell_type": "code",
   "execution_count": null,
   "metadata": {},
   "outputs": [],
   "source": []
  }
 ],
 "metadata": {
  "kernelspec": {
   "display_name": "Python 2",
   "language": "python",
   "name": "python2"
  },
  "language_info": {
   "codemirror_mode": {
    "name": "ipython",
    "version": 2
   },
   "file_extension": ".py",
   "mimetype": "text/x-python",
   "name": "python",
   "nbconvert_exporter": "python",
   "pygments_lexer": "ipython2",
   "version": "2.7.14"
  }
 },
 "nbformat": 4,
 "nbformat_minor": 2
}
