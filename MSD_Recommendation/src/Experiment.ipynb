{
 "cells": [
  {
   "cell_type": "code",
   "execution_count": 4,
   "metadata": {},
   "outputs": [],
   "source": [
    "import torch\n",
    "import os\n",
    "import shutil\n",
    "import sys\n",
    "import numpy as np\n",
    "import pandas as pd\n",
    "from scipy import sparse\n",
    "import matplotlib.pyplot as plt\n",
    "import eval_utils,utils\n",
    "import time\n",
    "\n",
    "import tensorflow as tf\n",
    "from tensorflow.contrib.layers import apply_regularization, l2_regularizer\n",
    "\n",
    "from vaecf import MultiVAE\n",
    "import models"
   ]
  },
  {
   "cell_type": "code",
   "execution_count": 125,
   "metadata": {},
   "outputs": [
    {
     "name": "stdout",
     "output_type": "stream",
     "text": [
      "reading training and testing file.\n"
     ]
    }
   ],
   "source": [
    "dataset_name='msd-little'\n",
    "train_dir = \"../train/\"\n",
    "print 'reading training and testing file.'\n",
    "\n",
    "n_users, n_items, train_data = utils.load_train_data(os.path.join(train_dir, '%s.train.rating' % dataset_name))\n",
    "testRatings =  utils.load_rating_file_as_list(\"../train/%s.test.rating\" % dataset_name)\n",
    "testNegatives = utils.load_negative_file(\"../train/%s.test.negative\" % dataset_name)\n",
    "vad_data_tr = utils.load_test_data(os.path.join(train_dir, '%s.train.rating' % dataset_name),n_users, n_items)\n",
    "vad_data_te = utils.load_test_data(os.path.join(train_dir, '%s.test.rating' % dataset_name),n_users, n_items)\n",
    "\n",
    "\n",
    "topk = 10\n",
    "limit = 100000"
   ]
  },
  {
   "cell_type": "code",
   "execution_count": 77,
   "metadata": {},
   "outputs": [
    {
     "data": {
      "text/plain": [
       "692971"
      ]
     },
     "execution_count": 77,
     "metadata": {},
     "output_type": "execute_result"
    }
   ],
   "source": [
    "train_data.count_nonzero()"
   ]
  },
  {
   "cell_type": "markdown",
   "metadata": {},
   "source": [
    "## ItemPopularity Experiment"
   ]
  },
  {
   "cell_type": "code",
   "execution_count": 73,
   "metadata": {},
   "outputs": [],
   "source": [
    "def test_item_popularity(train_data, testRatings, testNegatives, topk=10, limit=100000):\n",
    "    item_pop = {}\n",
    "    for i in range(n_items):\n",
    "        item_pop[i] = train_data[:,i].count_nonzero()\n",
    "    item_pop_evaluation = eval_utils.item_popularity_evaluation(item_pop, testRatings, testNegatives, topk)\n",
    "    (hits, ndcgs) = item_pop_evaluation.evaluate(num_thread=1, limit_size=limit)\n",
    "    item_pop_hr, item_pop_ndcg = np.array(hits).mean(), np.array(ndcgs).mean()\n",
    "    print 'Item Popularity, testSize=%d, HitRate=%.4f, NDCG=%.4f' % (len(hits), item_pop_hr, item_pop_ndcg)\n",
    "    return item_pop_hr, item_pop_ndcg"
   ]
  },
  {
   "cell_type": "code",
   "execution_count": 74,
   "metadata": {},
   "outputs": [
    {
     "name": "stdout",
     "output_type": "stream",
     "text": [
      "Item Popularity, testSize=100000, HitRate=0.3645, NDCG=0.2210\n",
      "0.36452 0.22103331147786487\n"
     ]
    }
   ],
   "source": [
    "hr1, ndcg1 = test_item_popularity(train_data, testRatings, testNegatives)\n",
    "print hr1, ndcg1"
   ]
  },
  {
   "cell_type": "markdown",
   "metadata": {},
   "source": [
    "## ItemCF Experiment"
   ]
  },
  {
   "cell_type": "code",
   "execution_count": 79,
   "metadata": {},
   "outputs": [],
   "source": [
    "def test_itemcf(dataset_name, testRatings, testNegatives, topk=10, limit=100000, alpha=0.5, Q=1, knn=1000):\n",
    "    \n",
    "    u2s = dict()\n",
    "    s2u = dict()\n",
    "\n",
    "    train_file = '../train/%s.train.rating' % dataset_name\n",
    "    with open(train_file, 'r') as f:\n",
    "        for line in f:\n",
    "            if line != None and line != \"\":\n",
    "                arr = line.split(\"\\t\")\n",
    "                user, song = int(arr[0]), int(arr[1])\n",
    "                if user not in u2s:\n",
    "                    u2s[user] = set()\n",
    "                u2s[user].add(song)\n",
    "                if song not in s2u:\n",
    "                    s2u[song] = set()\n",
    "                s2u[song].add(user)\n",
    "\n",
    "    model = models.ItemCF(u2s, s2u, sim_method='cos', alpha=alpha, Q=Q, knn=knn)\n",
    "\n",
    "    itemcf_eval = eval_utils.itemcf_evaluation(model, u2s, testRatings, testNegatives, K=topk)\n",
    "    (hits, ndcgs) = itemcf_eval.evaluate(num_thread=1, limit_size=limit)\n",
    "    itemcf_hr, itemcf_ndcg = np.array(hits).mean(), np.array(ndcgs).mean()\n",
    "    print('ItemCF, testSize = %d, HR = %.4f, NDCG = %.4f'  % (len(hits), itemcf_hr, itemcf_ndcg))\n",
    "    return itemcf_hr, itemcf_ndcg"
   ]
  },
  {
   "cell_type": "code",
   "execution_count": 80,
   "metadata": {},
   "outputs": [
    {
     "name": "stdout",
     "output_type": "stream",
     "text": [
      "ItemCF, testSize = 1000, HR = 0.2030, NDCG = 0.1027\n",
      "0.203 0.10270729719806417\n"
     ]
    }
   ],
   "source": [
    "hr1, ndcg1 = test_itemcf('msd-middle',testRatings, testNegatives, topk=10, limit=1000)\n",
    "print hr1, ndcg1"
   ]
  },
  {
   "cell_type": "code",
   "execution_count": 6,
   "metadata": {},
   "outputs": [
    {
     "name": "stdout",
     "output_type": "stream",
     "text": [
      "Constructing ItemCF_cos\n",
      "\tRanking Pop Items. tot: 1758\n",
      "\tCalc Item Similarity:cos,alpha=0.0,Q=1\n",
      "ItemCF, alpha = 0.00, HR = 0.4509, NDCG = 0.2760\n",
      "Constructing ItemCF_cos\n",
      "\tRanking Pop Items. tot: 1758\n",
      "\tCalc Item Similarity:cos,alpha=0.05,Q=1\n",
      "ItemCF, alpha = 0.05, HR = 0.4653, NDCG = 0.2892\n",
      "Constructing ItemCF_cos\n",
      "\tRanking Pop Items. tot: 1758\n",
      "\tCalc Item Similarity:cos,alpha=0.1,Q=1\n",
      "ItemCF, alpha = 0.10, HR = 0.4793, NDCG = 0.3011\n",
      "Constructing ItemCF_cos\n",
      "\tRanking Pop Items. tot: 1758\n",
      "\tCalc Item Similarity:cos,alpha=0.15000000000000002,Q=1\n",
      "ItemCF, alpha = 0.15, HR = 0.4908, NDCG = 0.3112\n",
      "Constructing ItemCF_cos\n",
      "\tRanking Pop Items. tot: 1758\n",
      "\tCalc Item Similarity:cos,alpha=0.2,Q=1\n",
      "ItemCF, alpha = 0.20, HR = 0.5003, NDCG = 0.3192\n",
      "Constructing ItemCF_cos\n",
      "\tRanking Pop Items. tot: 1758\n",
      "\tCalc Item Similarity:cos,alpha=0.25,Q=1\n",
      "ItemCF, alpha = 0.25, HR = 0.5077, NDCG = 0.3258\n",
      "Constructing ItemCF_cos\n",
      "\tRanking Pop Items. tot: 1758\n",
      "\tCalc Item Similarity:cos,alpha=0.30000000000000004,Q=1\n",
      "ItemCF, alpha = 0.30, HR = 0.5137, NDCG = 0.3309\n",
      "Constructing ItemCF_cos\n",
      "\tRanking Pop Items. tot: 1758\n",
      "\tCalc Item Similarity:cos,alpha=0.35000000000000003,Q=1\n",
      "ItemCF, alpha = 0.35, HR = 0.5171, NDCG = 0.3343\n",
      "Constructing ItemCF_cos\n",
      "\tRanking Pop Items. tot: 1758\n",
      "\tCalc Item Similarity:cos,alpha=0.4,Q=1\n",
      "ItemCF, alpha = 0.40, HR = 0.5205, NDCG = 0.3371\n",
      "Constructing ItemCF_cos\n",
      "\tRanking Pop Items. tot: 1758\n",
      "\tCalc Item Similarity:cos,alpha=0.45,Q=1\n",
      "ItemCF, alpha = 0.45, HR = 0.5234, NDCG = 0.3393\n",
      "Constructing ItemCF_cos\n",
      "\tRanking Pop Items. tot: 1758\n",
      "\tCalc Item Similarity:cos,alpha=0.5,Q=1\n",
      "ItemCF, alpha = 0.50, HR = 0.5250, NDCG = 0.3406\n",
      "Constructing ItemCF_cos\n",
      "\tRanking Pop Items. tot: 1758\n",
      "\tCalc Item Similarity:cos,alpha=0.55,Q=1\n",
      "ItemCF, alpha = 0.55, HR = 0.5259, NDCG = 0.3406\n",
      "Constructing ItemCF_cos\n",
      "\tRanking Pop Items. tot: 1758\n",
      "\tCalc Item Similarity:cos,alpha=0.6000000000000001,Q=1\n",
      "ItemCF, alpha = 0.60, HR = 0.5264, NDCG = 0.3403\n",
      "Constructing ItemCF_cos\n",
      "\tRanking Pop Items. tot: 1758\n",
      "\tCalc Item Similarity:cos,alpha=0.65,Q=1\n",
      "ItemCF, alpha = 0.65, HR = 0.5266, NDCG = 0.3393\n",
      "Constructing ItemCF_cos\n",
      "\tRanking Pop Items. tot: 1758\n",
      "\tCalc Item Similarity:cos,alpha=0.7000000000000001,Q=1\n",
      "ItemCF, alpha = 0.70, HR = 0.5272, NDCG = 0.3383\n",
      "Constructing ItemCF_cos\n",
      "\tRanking Pop Items. tot: 1758\n",
      "\tCalc Item Similarity:cos,alpha=0.75,Q=1\n",
      "ItemCF, alpha = 0.75, HR = 0.5272, NDCG = 0.3368\n",
      "Constructing ItemCF_cos\n",
      "\tRanking Pop Items. tot: 1758\n",
      "\tCalc Item Similarity:cos,alpha=0.8,Q=1\n",
      "ItemCF, alpha = 0.80, HR = 0.5261, NDCG = 0.3347\n",
      "Constructing ItemCF_cos\n",
      "\tRanking Pop Items. tot: 1758\n",
      "\tCalc Item Similarity:cos,alpha=0.8500000000000001,Q=1\n",
      "ItemCF, alpha = 0.85, HR = 0.5251, NDCG = 0.3322\n",
      "Constructing ItemCF_cos\n",
      "\tRanking Pop Items. tot: 1758\n",
      "\tCalc Item Similarity:cos,alpha=0.9,Q=1\n",
      "ItemCF, alpha = 0.90, HR = 0.5245, NDCG = 0.3298\n",
      "Constructing ItemCF_cos\n",
      "\tRanking Pop Items. tot: 1758\n",
      "\tCalc Item Similarity:cos,alpha=0.9500000000000001,Q=1\n",
      "ItemCF, alpha = 0.95, HR = 0.5233, NDCG = 0.3273\n"
     ]
    }
   ],
   "source": [
    "alphas = []\n",
    "alpha_hrs = []\n",
    "alpha_ndcg = []\n",
    "for alpha in np.arange(0,2,0.05):\n",
    "    model = models.ItemCF(u2s, s2u, sim_method='cos', alpha=alpha, Q=1, knn=knn)\n",
    "    itemcf_eval = eval_utils.itemcf_evaluation(model, u2s, testRatings, testNegatives, K=topk)\n",
    "    (hits, ndcgs) = itemcf_eval.evaluate(num_thread=1, limit_size=limit)\n",
    "    itemcf_hr, itemcf_ndcg = np.array(hits).mean(), np.array(ndcgs).mean()\n",
    "    alphas.append(alpha)\n",
    "    alpha_hrs.append(itemcf_hr)\n",
    "    alpha_ndcg.append(itemcf_ndcg)\n",
    "    print('ItemCF, alpha = %.2f, HR = %.4f, NDCG = %.4f'  % (alpha, itemcf_hr, itemcf_ndcg))"
   ]
  },
  {
   "cell_type": "code",
   "execution_count": 10,
   "metadata": {},
   "outputs": [
    {
     "data": {
      "image/png": "[encoded data removed]",
      "text/plain": [
       "<Figure size 864x288 with 2 Axes>"
      ]
     },
     "metadata": {},
     "output_type": "display_data"
    }
   ],
   "source": [
    "f, (ax1, ax2) = plt.subplots(1, 2, figsize=(12, 4))\n",
    "\n",
    "ax1.plot(alphas, alpha_hrs)\n",
    "ax1.set_ylabel(\"Hit Rate@%d\" % topk)\n",
    "ax1.set_xlabel(\"alpha\")\n",
    "ax1.set_xlim([0,1])\n",
    "\n",
    "ax2.plot(alphas, alpha_ndcg)\n",
    "ax2.set_ylabel(\"NDCG@%d\" % topk)\n",
    "ax2.set_xlabel(\"alpha\")\n",
    "ax2.set_xlim([0,1])\n",
    "\n",
    "pass"
   ]
  },
  {
   "cell_type": "code",
   "execution_count": null,
   "metadata": {},
   "outputs": [],
   "source": [
    "params = []\n",
    "p_hrs = []\n",
    "p_ndcg = []\n",
    "alpha = 0.5\n",
    "for param in np.arange(1,10,1):\n",
    "    model = models.ItemCF(u2s, s2u, sim_method='cos', alpha=alpha, Q=param, knn=10000)\n",
    "    itemcf_eval = eval_utils.itemcf_evaluation(model, u2s, testRatings, testNegatives, K=topk)\n",
    "    (hits, ndcgs) = itemcf_eval.evaluate(num_thread=1, limit_size=limit)\n",
    "    hr, ndcg = np.array(hits).mean(), np.array(ndcgs).mean()\n",
    "    params.append(param)\n",
    "    p_hrs.append(hr)\n",
    "    p_ndcg.append(ndcg)\n",
    "    print('ItemCF, alpha = %.2f, Q = %.1f, HR = %.4f, NDCG = %.4f'  % (alpha, Q,itemcf_hr, itemcf_ndcg))"
   ]
  },
  {
   "cell_type": "markdown",
   "metadata": {},
   "source": [
    "## UserCF Experiment"
   ]
  },
  {
   "cell_type": "code",
   "execution_count": 3,
   "metadata": {},
   "outputs": [
    {
     "name": "stdout",
     "output_type": "stream",
     "text": [
      "reading training file.\n"
     ]
    }
   ],
   "source": [
    "u2s = dict()\n",
    "s2u = dict()\n",
    "\n",
    "train_file = '../train/%s.train.rating' % dataset_name\n",
    "print 'reading training file.'\n",
    "with open(train_file, 'r') as f:\n",
    "    for line in f:\n",
    "        if line != None and line != \"\":\n",
    "            arr = line.split(\"\\t\")\n",
    "            user, song = int(arr[0]), int(arr[1])\n",
    "            if user not in u2s:\n",
    "                u2s[user] = set()\n",
    "            u2s[user].add(song)\n",
    "            if song not in s2u:\n",
    "                s2u[song] = set()\n",
    "            s2u[song].add(user)"
   ]
  },
  {
   "cell_type": "code",
   "execution_count": 6,
   "metadata": {},
   "outputs": [
    {
     "name": "stdout",
     "output_type": "stream",
     "text": [
      "UserCF, knn = 20, HR = 0.2815, NDCG = 0.1775\n",
      "UserCF, knn = 40, HR = 0.3412, NDCG = 0.2191\n",
      "UserCF, knn = 60, HR = 0.3816, NDCG = 0.2460\n",
      "UserCF, knn = 80, HR = 0.4046, NDCG = 0.2633\n",
      "UserCF, knn = 100, HR = 0.4199, NDCG = 0.2755\n",
      "UserCF, knn = 120, HR = 0.4316, NDCG = 0.2841\n",
      "UserCF, knn = 140, HR = 0.4430, NDCG = 0.2915\n",
      "UserCF, knn = 160, HR = 0.4535, NDCG = 0.2980\n",
      "UserCF, knn = 180, HR = 0.4609, NDCG = 0.3022\n",
      "UserCF, knn = 200, HR = 0.4693, NDCG = 0.3063\n",
      "UserCF, knn = 220, HR = 0.4742, NDCG = 0.3091\n",
      "UserCF, knn = 240, HR = 0.4792, NDCG = 0.3115\n",
      "UserCF, knn = 260, HR = 0.4833, NDCG = 0.3134\n",
      "UserCF, knn = 280, HR = 0.4864, NDCG = 0.3142\n",
      "UserCF, knn = 300, HR = 0.4890, NDCG = 0.3154\n",
      "UserCF, knn = 320, HR = 0.4921, NDCG = 0.3160\n",
      "UserCF, knn = 340, HR = 0.4952, NDCG = 0.3166\n",
      "UserCF, knn = 360, HR = 0.4975, NDCG = 0.3171\n",
      "UserCF, knn = 380, HR = 0.4999, NDCG = 0.3178\n",
      "UserCF, knn = 400, HR = 0.5009, NDCG = 0.3175\n",
      "UserCF, knn = 420, HR = 0.5021, NDCG = 0.3178\n",
      "UserCF, knn = 440, HR = 0.5030, NDCG = 0.3175\n",
      "UserCF, knn = 460, HR = 0.5041, NDCG = 0.3173\n",
      "UserCF, knn = 480, HR = 0.5054, NDCG = 0.3174\n"
     ]
    }
   ],
   "source": [
    "knns = []\n",
    "knn_hrs = []\n",
    "knn_ndcgs = []\n",
    "for knn in np.arange(20,500,20):\n",
    "    model = models.UserCF(u2s, s2u, sim_method='cos', alpha=0.5, knn=knn)\n",
    "    evaluator = eval_utils.usercf_evaluation(model, u2s, testRatings, testNegatives, K=topk)\n",
    "    (hits, ndcgs) = evaluator.evaluate(num_thread=1, limit_size=limit)\n",
    "    usercf_hr, usercf_ndcg = np.array(hits).mean(), np.array(ndcgs).mean()\n",
    "    knns.append(knn)\n",
    "    knn_hrs.append(usercf_hr)\n",
    "    knn_ndcgs.append(usercf_ndcg)\n",
    "    print('UserCF, knn = %d, HR = %.4f, NDCG = %.4f'  % (knn, usercf_hr, usercf_ndcg))"
   ]
  },
  {
   "cell_type": "code",
   "execution_count": 9,
   "metadata": {},
   "outputs": [],
   "source": [
    "p_knn_hrs = []\n",
    "p_knn_ndcgs = []\n",
    "\n",
    "for i,v in enumerate(knn_hrs):\n",
    "    if i % 2 == 0:\n",
    "        p_knn_hrs.append(v)\n",
    "    else:\n",
    "        p_knn_ndcgs.append(v)"
   ]
  },
  {
   "cell_type": "code",
   "execution_count": 10,
   "metadata": {},
   "outputs": [
    {
     "data": {
      "image/png": "[encoded data removed]",
      "text/plain": [
       "<Figure size 864x288 with 2 Axes>"
      ]
     },
     "metadata": {},
     "output_type": "display_data"
    }
   ],
   "source": [
    "f, (ax1, ax2) = plt.subplots(1, 2, figsize=(12, 4))\n",
    "\n",
    "ax1.plot(knns, p_knn_hrs)\n",
    "ax1.set_ylabel(\"Hit Rate@%d\" % topk)\n",
    "ax1.set_xlabel(\"k\")\n",
    "\n",
    "\n",
    "ax2.plot(knns, p_knn_ndcgs)\n",
    "ax2.set_ylabel(\"NDCG@%d\" % topk)\n",
    "ax2.set_xlabel(\"k\")\n",
    "\n",
    "# best: 400\n",
    "\n",
    "pass"
   ]
  },
  {
   "cell_type": "markdown",
   "metadata": {},
   "source": [
    "## Variational Autoencoders for Collaborative Filtering"
   ]
  },
  {
   "cell_type": "code",
   "execution_count": 134,
   "metadata": {},
   "outputs": [],
   "source": [
    "def test_vaecf(n_users, n_items, train_data, vad_data_tr, vad_data_te, testRatings, testNegatives, n_epochs = 20, lr=1e-4, topk=10, limit=10000, batch_size=256, n_factor=300):\n",
    "    \n",
    "    N = min(train_data.shape[0],vad_data_te.shape[0])\n",
    "    idxlist = range(N)\n",
    "\n",
    "    # training batch size\n",
    "    batch_size = batch_size\n",
    "    batches_per_epoch = int(np.ceil(float(N) / batch_size))\n",
    "\n",
    "    N_vad = min(vad_data_tr.shape[0],vad_data_te.shape[0])\n",
    "    idxlist_vad = range(N_vad)\n",
    "\n",
    "    # validation batch size (since the entire validation set might not fit into GPU memory)\n",
    "    batch_size_vad = 300\n",
    "\n",
    "    # the total number of gradient updates for annealing\n",
    "    total_anneal_steps = 200000\n",
    "    # largest annealing parameter\n",
    "    anneal_cap = 0.2\n",
    "\n",
    "    # p_dims = [200, 600, n_items]\n",
    "    p_dims = [n_factor, n_items]\n",
    "\n",
    "    tf.reset_default_graph()\n",
    "    vae = MultiVAE(p_dims, lam=0.000, lr=lr, random_seed=98765)\n",
    "\n",
    "    saver, logits_var, loss_var, train_op_var, merged_var = vae.build_graph()\n",
    "\n",
    "    ndcg_var = tf.Variable(0.0)\n",
    "    ndcg_dist_var = tf.placeholder(dtype=tf.float64, shape=None)\n",
    "    ndcg_summary = tf.summary.scalar('ndcg_at_k_validation', ndcg_var)\n",
    "    ndcg_dist_summary = tf.summary.histogram('ndcg_at_k_hist_validation', ndcg_dist_var)\n",
    "    merged_valid = tf.summary.merge([ndcg_summary, ndcg_dist_summary])\n",
    "\n",
    "    pro_dir = train_dir\n",
    "    arch_str = \"I-%s-I\" % ('-'.join([str(d) for d in vae.dims[1:-1]]))\n",
    "    log_dir = pro_dir+'/VAE_anneal{}K_cap{:1.1E}/{}'.format(\n",
    "        total_anneal_steps/1000, anneal_cap, arch_str)\n",
    "\n",
    "    if os.path.exists(log_dir):\n",
    "        shutil.rmtree(log_dir)\n",
    "\n",
    "    #print(\"log directory: %s\" % log_dir)\n",
    "    summary_writer = tf.summary.FileWriter(log_dir, graph=tf.get_default_graph())\n",
    "\n",
    "    chkpt_dir = pro_dir+'/VAE_anneal{}K_cap{:1.1E}/{}'.format(\n",
    "        total_anneal_steps/1000, anneal_cap, arch_str)\n",
    "\n",
    "    if not os.path.isdir(chkpt_dir):\n",
    "        os.makedirs(chkpt_dir) \n",
    "\n",
    "    #print(\"chkpt directory: %s\" % chkpt_dir)\n",
    "    \n",
    "    ndcgs_vad = []\n",
    "    hrs_vad = []\n",
    "    best_ndcg = 0\n",
    "    best_hr = 0\n",
    "    pred_result = []\n",
    "\n",
    "    with tf.Session() as sess:\n",
    "\n",
    "        init = tf.global_variables_initializer()\n",
    "        sess.run(init)\n",
    "        best_ndcg = -np.inf\n",
    "        update_count = 0.0\n",
    "\n",
    "        for epoch in range(n_epochs):\n",
    "            np.random.shuffle(idxlist)\n",
    "            # train for one epoch\n",
    "            total_loss = 0.0\n",
    "            for bnum, st_idx in enumerate(range(0, N, batch_size)):\n",
    "                end_idx = min(st_idx + batch_size, N)\n",
    "                X = train_data[idxlist[st_idx:end_idx]]\n",
    "\n",
    "                if sparse.isspmatrix(X):\n",
    "                    X = X.toarray()\n",
    "                X = X.astype('float32')           \n",
    "\n",
    "                if total_anneal_steps > 0:\n",
    "                    anneal = min(anneal_cap, 1. * update_count / total_anneal_steps)\n",
    "                else:\n",
    "                    anneal = anneal_cap\n",
    "\n",
    "                feed_dict = {vae.input_ph: X, \n",
    "                             vae.keep_prob_ph: 0.5, \n",
    "                             vae.anneal_ph: anneal,\n",
    "                             vae.is_training_ph: 1}        \n",
    "                sess.run(train_op_var, feed_dict=feed_dict)\n",
    "\n",
    "                if bnum % 100 == 0:\n",
    "                    summary_train = sess.run(merged_var, feed_dict=feed_dict)\n",
    "                    summary_writer.add_summary(summary_train, \n",
    "                                               global_step=epoch * batches_per_epoch + bnum) \n",
    "\n",
    "                update_count += 1\n",
    "\n",
    "            if epoch % 5 ==0:\n",
    "                X = vad_data_tr\n",
    "                if sparse.isspmatrix(X):\n",
    "                    X = X.toarray()\n",
    "                X = X.astype('float32')\n",
    "\n",
    "                pred_val = sess.run(logits_var, feed_dict={vae.input_ph: X} )\n",
    "                pred_val[X.nonzero()] = -np.inf\n",
    "                evaluation = eval_utils.vaecf_evaluation(pred_val, testRatings, testNegatives, topk)\n",
    "                (hits, ndcgs) = evaluation.evaluate(1, limit_size=limit)\n",
    "                hr, ndcg = np.array(hits).mean(), np.array(ndcgs).mean()\n",
    "                print('VAECF: epoch = %d, test_size = %d, HR = %.4f, NDCG = %.4f'  % (epoch, len(hits), hr, ndcg))\n",
    "\n",
    "                ndcgs_vad.append(ndcg)\n",
    "                hrs_vad.append(hr)\n",
    "\n",
    "                # update the best model (if necessary)\n",
    "                if ndcg > best_ndcg:\n",
    "                    saver.save(sess, '{}/model'.format(chkpt_dir))\n",
    "                    best_ndcg = ndcg\n",
    "                    best_hr = hr\n",
    "                \n",
    "        print('VAECF: test_size = %d, HR = %.4f, NDCG = %.4f'  % (len(hits), best_hr, best_ndcg))\n",
    "    return best_hr, best_ndcg"
   ]
  },
  {
   "cell_type": "code",
   "execution_count": 90,
   "metadata": {},
   "outputs": [
    {
     "name": "stdout",
     "output_type": "stream",
     "text": [
      "INFO:tensorflow:Scale of 0 disables regularizer.\n",
      "VAECF: epoch = 0, test_size = 10000, HR = 0.3139, NDCG = 0.1713\n"
     ]
    },
    {
     "ename": "KeyboardInterrupt",
     "evalue": "",
     "output_type": "error",
     "traceback": [
      "\u001b[0;31m---------------------------------------------------------------------------\u001b[0m",
      "\u001b[0;31mKeyboardInterrupt\u001b[0m                         Traceback (most recent call last)",
      "\u001b[0;32m<ipython-input-90-fb45ea98c28f>\u001b[0m in \u001b[0;36m<module>\u001b[0;34m()\u001b[0m\n\u001b[0;32m----> 1\u001b[0;31m \u001b[0mhr3\u001b[0m\u001b[0;34m,\u001b[0m \u001b[0mndcg3\u001b[0m \u001b[0;34m=\u001b[0m \u001b[0mtest_vaecf\u001b[0m\u001b[0;34m(\u001b[0m\u001b[0mn_users\u001b[0m\u001b[0;34m,\u001b[0m \u001b[0mn_items\u001b[0m\u001b[0;34m,\u001b[0m \u001b[0mtrain_data\u001b[0m\u001b[0;34m,\u001b[0m \u001b[0mvad_data_tr\u001b[0m\u001b[0;34m,\u001b[0m \u001b[0mvad_data_te\u001b[0m\u001b[0;34m,\u001b[0m \u001b[0mtestRatings\u001b[0m\u001b[0;34m,\u001b[0m \u001b[0mtestNegatives\u001b[0m\u001b[0;34m,\u001b[0m \u001b[0mn_epochs\u001b[0m\u001b[0;34m=\u001b[0m\u001b[0;36m10\u001b[0m\u001b[0;34m)\u001b[0m\u001b[0;34m\u001b[0m\u001b[0m\n\u001b[0m",
      "\u001b[0;32m<ipython-input-89-196332f45c99>\u001b[0m in \u001b[0;36mtest_vaecf\u001b[0;34m(n_users, n_items, train_data, vad_data_tr, vad_data_te, testRatings, testNegatives, n_epochs, lr, topk, limit)\u001b[0m\n\u001b[1;32m     88\u001b[0m                              \u001b[0mvae\u001b[0m\u001b[0;34m.\u001b[0m\u001b[0manneal_ph\u001b[0m\u001b[0;34m:\u001b[0m \u001b[0manneal\u001b[0m\u001b[0;34m,\u001b[0m\u001b[0;34m\u001b[0m\u001b[0m\n\u001b[1;32m     89\u001b[0m                              vae.is_training_ph: 1}        \n\u001b[0;32m---> 90\u001b[0;31m                 \u001b[0msess\u001b[0m\u001b[0;34m.\u001b[0m\u001b[0mrun\u001b[0m\u001b[0;34m(\u001b[0m\u001b[0mtrain_op_var\u001b[0m\u001b[0;34m,\u001b[0m \u001b[0mfeed_dict\u001b[0m\u001b[0;34m=\u001b[0m\u001b[0mfeed_dict\u001b[0m\u001b[0;34m)\u001b[0m\u001b[0;34m\u001b[0m\u001b[0m\n\u001b[0m\u001b[1;32m     91\u001b[0m \u001b[0;34m\u001b[0m\u001b[0m\n\u001b[1;32m     92\u001b[0m                 \u001b[0;32mif\u001b[0m \u001b[0mbnum\u001b[0m \u001b[0;34m%\u001b[0m \u001b[0;36m100\u001b[0m \u001b[0;34m==\u001b[0m \u001b[0;36m0\u001b[0m\u001b[0;34m:\u001b[0m\u001b[0;34m\u001b[0m\u001b[0m\n",
      "\u001b[0;32m/usr/local/lib/python2.7/site-packages/tensorflow/python/client/session.pyc\u001b[0m in \u001b[0;36mrun\u001b[0;34m(self, fetches, feed_dict, options, run_metadata)\u001b[0m\n\u001b[1;32m    903\u001b[0m     \u001b[0;32mtry\u001b[0m\u001b[0;34m:\u001b[0m\u001b[0;34m\u001b[0m\u001b[0m\n\u001b[1;32m    904\u001b[0m       result = self._run(None, fetches, feed_dict, options_ptr,\n\u001b[0;32m--> 905\u001b[0;31m                          run_metadata_ptr)\n\u001b[0m\u001b[1;32m    906\u001b[0m       \u001b[0;32mif\u001b[0m \u001b[0mrun_metadata\u001b[0m\u001b[0;34m:\u001b[0m\u001b[0;34m\u001b[0m\u001b[0m\n\u001b[1;32m    907\u001b[0m         \u001b[0mproto_data\u001b[0m \u001b[0;34m=\u001b[0m \u001b[0mtf_session\u001b[0m\u001b[0;34m.\u001b[0m\u001b[0mTF_GetBuffer\u001b[0m\u001b[0;34m(\u001b[0m\u001b[0mrun_metadata_ptr\u001b[0m\u001b[0;34m)\u001b[0m\u001b[0;34m\u001b[0m\u001b[0m\n",
      "\u001b[0;32m/usr/local/lib/python2.7/site-packages/tensorflow/python/client/session.pyc\u001b[0m in \u001b[0;36m_run\u001b[0;34m(self, handle, fetches, feed_dict, options, run_metadata)\u001b[0m\n\u001b[1;32m   1138\u001b[0m     \u001b[0;32mif\u001b[0m \u001b[0mfinal_fetches\u001b[0m \u001b[0;32mor\u001b[0m \u001b[0mfinal_targets\u001b[0m \u001b[0;32mor\u001b[0m \u001b[0;34m(\u001b[0m\u001b[0mhandle\u001b[0m \u001b[0;32mand\u001b[0m \u001b[0mfeed_dict_tensor\u001b[0m\u001b[0;34m)\u001b[0m\u001b[0;34m:\u001b[0m\u001b[0;34m\u001b[0m\u001b[0m\n\u001b[1;32m   1139\u001b[0m       results = self._do_run(handle, final_targets, final_fetches,\n\u001b[0;32m-> 1140\u001b[0;31m                              feed_dict_tensor, options, run_metadata)\n\u001b[0m\u001b[1;32m   1141\u001b[0m     \u001b[0;32melse\u001b[0m\u001b[0;34m:\u001b[0m\u001b[0;34m\u001b[0m\u001b[0m\n\u001b[1;32m   1142\u001b[0m       \u001b[0mresults\u001b[0m \u001b[0;34m=\u001b[0m \u001b[0;34m[\u001b[0m\u001b[0;34m]\u001b[0m\u001b[0;34m\u001b[0m\u001b[0m\n",
      "\u001b[0;32m/usr/local/lib/python2.7/site-packages/tensorflow/python/client/session.pyc\u001b[0m in \u001b[0;36m_do_run\u001b[0;34m(self, handle, target_list, fetch_list, feed_dict, options, run_metadata)\u001b[0m\n\u001b[1;32m   1319\u001b[0m     \u001b[0;32mif\u001b[0m \u001b[0mhandle\u001b[0m \u001b[0;32mis\u001b[0m \u001b[0mNone\u001b[0m\u001b[0;34m:\u001b[0m\u001b[0;34m\u001b[0m\u001b[0m\n\u001b[1;32m   1320\u001b[0m       return self._do_call(_run_fn, feeds, fetches, targets, options,\n\u001b[0;32m-> 1321\u001b[0;31m                            run_metadata)\n\u001b[0m\u001b[1;32m   1322\u001b[0m     \u001b[0;32melse\u001b[0m\u001b[0;34m:\u001b[0m\u001b[0;34m\u001b[0m\u001b[0m\n\u001b[1;32m   1323\u001b[0m       \u001b[0;32mreturn\u001b[0m \u001b[0mself\u001b[0m\u001b[0;34m.\u001b[0m\u001b[0m_do_call\u001b[0m\u001b[0;34m(\u001b[0m\u001b[0m_prun_fn\u001b[0m\u001b[0;34m,\u001b[0m \u001b[0mhandle\u001b[0m\u001b[0;34m,\u001b[0m \u001b[0mfeeds\u001b[0m\u001b[0;34m,\u001b[0m \u001b[0mfetches\u001b[0m\u001b[0;34m)\u001b[0m\u001b[0;34m\u001b[0m\u001b[0m\n",
      "\u001b[0;32m/usr/local/lib/python2.7/site-packages/tensorflow/python/client/session.pyc\u001b[0m in \u001b[0;36m_do_call\u001b[0;34m(self, fn, *args)\u001b[0m\n\u001b[1;32m   1325\u001b[0m   \u001b[0;32mdef\u001b[0m \u001b[0m_do_call\u001b[0m\u001b[0;34m(\u001b[0m\u001b[0mself\u001b[0m\u001b[0;34m,\u001b[0m \u001b[0mfn\u001b[0m\u001b[0;34m,\u001b[0m \u001b[0;34m*\u001b[0m\u001b[0margs\u001b[0m\u001b[0;34m)\u001b[0m\u001b[0;34m:\u001b[0m\u001b[0;34m\u001b[0m\u001b[0m\n\u001b[1;32m   1326\u001b[0m     \u001b[0;32mtry\u001b[0m\u001b[0;34m:\u001b[0m\u001b[0;34m\u001b[0m\u001b[0m\n\u001b[0;32m-> 1327\u001b[0;31m       \u001b[0;32mreturn\u001b[0m \u001b[0mfn\u001b[0m\u001b[0;34m(\u001b[0m\u001b[0;34m*\u001b[0m\u001b[0margs\u001b[0m\u001b[0;34m)\u001b[0m\u001b[0;34m\u001b[0m\u001b[0m\n\u001b[0m\u001b[1;32m   1328\u001b[0m     \u001b[0;32mexcept\u001b[0m \u001b[0merrors\u001b[0m\u001b[0;34m.\u001b[0m\u001b[0mOpError\u001b[0m \u001b[0;32mas\u001b[0m \u001b[0me\u001b[0m\u001b[0;34m:\u001b[0m\u001b[0;34m\u001b[0m\u001b[0m\n\u001b[1;32m   1329\u001b[0m       \u001b[0mmessage\u001b[0m \u001b[0;34m=\u001b[0m \u001b[0mcompat\u001b[0m\u001b[0;34m.\u001b[0m\u001b[0mas_text\u001b[0m\u001b[0;34m(\u001b[0m\u001b[0me\u001b[0m\u001b[0;34m.\u001b[0m\u001b[0mmessage\u001b[0m\u001b[0;34m)\u001b[0m\u001b[0;34m\u001b[0m\u001b[0m\n",
      "\u001b[0;32m/usr/local/lib/python2.7/site-packages/tensorflow/python/client/session.pyc\u001b[0m in \u001b[0;36m_run_fn\u001b[0;34m(feed_dict, fetch_list, target_list, options, run_metadata)\u001b[0m\n\u001b[1;32m   1310\u001b[0m       \u001b[0mself\u001b[0m\u001b[0;34m.\u001b[0m\u001b[0m_extend_graph\u001b[0m\u001b[0;34m(\u001b[0m\u001b[0;34m)\u001b[0m\u001b[0;34m\u001b[0m\u001b[0m\n\u001b[1;32m   1311\u001b[0m       return self._call_tf_sessionrun(\n\u001b[0;32m-> 1312\u001b[0;31m           options, feed_dict, fetch_list, target_list, run_metadata)\n\u001b[0m\u001b[1;32m   1313\u001b[0m \u001b[0;34m\u001b[0m\u001b[0m\n\u001b[1;32m   1314\u001b[0m     \u001b[0;32mdef\u001b[0m \u001b[0m_prun_fn\u001b[0m\u001b[0;34m(\u001b[0m\u001b[0mhandle\u001b[0m\u001b[0;34m,\u001b[0m \u001b[0mfeed_dict\u001b[0m\u001b[0;34m,\u001b[0m \u001b[0mfetch_list\u001b[0m\u001b[0;34m)\u001b[0m\u001b[0;34m:\u001b[0m\u001b[0;34m\u001b[0m\u001b[0m\n",
      "\u001b[0;32m/usr/local/lib/python2.7/site-packages/tensorflow/python/client/session.pyc\u001b[0m in \u001b[0;36m_call_tf_sessionrun\u001b[0;34m(self, options, feed_dict, fetch_list, target_list, run_metadata)\u001b[0m\n\u001b[1;32m   1418\u001b[0m         return tf_session.TF_Run(\n\u001b[1;32m   1419\u001b[0m             \u001b[0mself\u001b[0m\u001b[0;34m.\u001b[0m\u001b[0m_session\u001b[0m\u001b[0;34m,\u001b[0m \u001b[0moptions\u001b[0m\u001b[0;34m,\u001b[0m \u001b[0mfeed_dict\u001b[0m\u001b[0;34m,\u001b[0m \u001b[0mfetch_list\u001b[0m\u001b[0;34m,\u001b[0m \u001b[0mtarget_list\u001b[0m\u001b[0;34m,\u001b[0m\u001b[0;34m\u001b[0m\u001b[0m\n\u001b[0;32m-> 1420\u001b[0;31m             status, run_metadata)\n\u001b[0m\u001b[1;32m   1421\u001b[0m \u001b[0;34m\u001b[0m\u001b[0m\n\u001b[1;32m   1422\u001b[0m   \u001b[0;32mdef\u001b[0m \u001b[0m_call_tf_sessionprun\u001b[0m\u001b[0;34m(\u001b[0m\u001b[0mself\u001b[0m\u001b[0;34m,\u001b[0m \u001b[0mhandle\u001b[0m\u001b[0;34m,\u001b[0m \u001b[0mfeed_dict\u001b[0m\u001b[0;34m,\u001b[0m \u001b[0mfetch_list\u001b[0m\u001b[0;34m)\u001b[0m\u001b[0;34m:\u001b[0m\u001b[0;34m\u001b[0m\u001b[0m\n",
      "\u001b[0;31mKeyboardInterrupt\u001b[0m: "
     ]
    }
   ],
   "source": [
    "hr3, ndcg3 = test_vaecf(n_users, n_items, train_data, vad_data_tr, vad_data_te, testRatings, testNegatives, n_epochs=10)"
   ]
  },
  {
   "cell_type": "code",
   "execution_count": 84,
   "metadata": {},
   "outputs": [
    {
     "data": {
      "text/plain": [
       "(0.5065695819027604, 0.7232)"
      ]
     },
     "execution_count": 84,
     "metadata": {},
     "output_type": "execute_result"
    }
   ],
   "source": [
    "hr3, ndcg3"
   ]
  },
  {
   "cell_type": "code",
   "execution_count": 13,
   "metadata": {},
   "outputs": [
    {
     "data": {
      "image/png": "[encoded data removed]",
      "text/plain": [
       "<Figure size 864x288 with 2 Axes>"
      ]
     },
     "metadata": {},
     "output_type": "display_data"
    }
   ],
   "source": [
    "f, (ax1, ax2) = plt.subplots(1, 2, figsize=(12, 4))\n",
    "\n",
    "ax1.plot(hrs_vad)\n",
    "ax1.set_ylabel(\"Hit Rate@%d\" % topk)\n",
    "ax1.set_xlabel(\"Epochs\")\n",
    "ax1.axhline(y=itemcf_hr, color='r', linestyle='-')\n",
    "ax1.legend(['VAECF','ItemCF'])\n",
    "\n",
    "ax2.plot(ndcgs_vad)\n",
    "ax2.set_ylabel(\"NDCG@%d\" % topk)\n",
    "ax2.set_xlabel(\"Epochs\")\n",
    "ax2.axhline(y=itemcf_ndcg, color='r', linestyle='-')\n",
    "ax2.legend(['VAECF','ItemCF'])\n",
    "pass"
   ]
  },
  {
   "cell_type": "markdown",
   "metadata": {},
   "source": [
    "## Test of Sparsity"
   ]
  },
  {
   "cell_type": "code",
   "execution_count": 14,
   "metadata": {},
   "outputs": [],
   "source": [
    "train_dir = \"../train/\"\n",
    "test_dir = \"../test/\"\n",
    "train_triplets_file=train_dir+\"kaggle_visible_evaluation_triplets.txt\"\n",
    "valid_triplets_file=test_dir+\"year1_valid_triplets_hidden.txt\"\n",
    "test_triplets_file=test_dir+\"year1_test_triplets_hidden.txt\"\n",
    "\n",
    "train_raw_data = pd.read_table(train_triplets_file, names=['user','song','count'],header=None)\n",
    "valid_raw_data = pd.read_table(valid_triplets_file, names=['user','song','count'], header=None)\n",
    "test_raw_data = pd.read_table(test_triplets_file, names=['user','song','count'], header=None)\n",
    "\n",
    "raw_data = train_raw_data.append(valid_raw_data).append(test_raw_data)"
   ]
  },
  {
   "cell_type": "code",
   "execution_count": 55,
   "metadata": {},
   "outputs": [
    {
     "data": {
      "image/png": "[encoded data removed]",
      "text/plain": [
       "<Figure size 432x288 with 1 Axes>"
      ]
     },
     "metadata": {},
     "output_type": "display_data"
    }
   ],
   "source": [
    "user_song_cnt = raw_data.groupby(['user'])['count'].count()\\\n",
    "                                            .reset_index(name='song_cnt')\\\n",
    "                                            .sort_values(['song_cnt'], ascending=False)\n",
    "x = np.arange(0,1.01,0.01)\n",
    "y = user_song_cnt.song_cnt.quantile(x)\n",
    "plt.bar(x*100,y,width=1)\n",
    "plt.xlabel('ratio(%)')\n",
    "plt.ylabel('#songs')\n",
    "plt.title('User listening distribution')\n",
    "pass"
   ]
  },
  {
   "cell_type": "code",
   "execution_count": 54,
   "metadata": {},
   "outputs": [
    {
     "data": {
      "image/png": "[encoded data removed]",
      "text/plain": [
       "<Figure size 432x288 with 1 Axes>"
      ]
     },
     "metadata": {},
     "output_type": "display_data"
    }
   ],
   "source": [
    "song_user_cnt = raw_data.groupby(['song'])['count'].count()\\\n",
    "                                            .reset_index(name='user_cnt')\\\n",
    "                                            .sort_values(['user_cnt'], ascending=False)\n",
    "x = np.arange(0.,1.0,0.01)\n",
    "\n",
    "y = song_user_cnt.user_cnt.quantile(x)\n",
    "plt.bar(x*100,y,width=1)\n",
    "plt.xlabel('ratio(%)')\n",
    "plt.ylabel('#songs')\n",
    "plt.title('Song audience distribution')\n",
    "pass"
   ]
  },
  {
   "cell_type": "code",
   "execution_count": 56,
   "metadata": {},
   "outputs": [
    {
     "name": "stderr",
     "output_type": "stream",
     "text": [
      "utils.py:15: SettingWithCopyWarning: \n",
      "A value is trying to be set on a copy of a slice from a DataFrame.\n",
      "Try using .loc[row_indexer,col_indexer] = value instead\n",
      "\n",
      "See the caveats in the documentation: http://pandas.pydata.org/pandas-docs/stable/indexing.html#indexing-view-versus-copy\n",
      "  selected_user['userid'] = range(len(selected_user))\n",
      "utils.py:24: SettingWithCopyWarning: \n",
      "A value is trying to be set on a copy of a slice from a DataFrame.\n",
      "Try using .loc[row_indexer,col_indexer] = value instead\n",
      "\n",
      "See the caveats in the documentation: http://pandas.pydata.org/pandas-docs/stable/indexing.html#indexing-view-versus-copy\n",
      "  selected_song['songid'] = range(len(selected_song))\n"
     ]
    }
   ],
   "source": [
    "utils.data_generation(raw_data, train_dir, 100, 20, dataset_prefix='msd-little')"
   ]
  },
  {
   "cell_type": "code",
   "execution_count": 102,
   "metadata": {},
   "outputs": [
    {
     "name": "stdout",
     "output_type": "stream",
     "text": [
      "loading msd-exp-80-160\n",
      "Item Popularity, testSize=4939, HitRate=0.3353, NDCG=0.1984\n",
      "ItemCF, testSize = 4939, HR = 0.5005, NDCG = 0.3216\n",
      "INFO:tensorflow:Scale of 0 disables regularizer.\n",
      "VAECF: epoch = 0, test_size = 4939, HR = 0.1197, NDCG = 0.0568\n",
      "VAECF: epoch = 10, test_size = 4939, HR = 0.2567, NDCG = 0.1442\n",
      "VAECF: epoch = 20, test_size = 4939, HR = 0.3094, NDCG = 0.1797\n",
      "VAECF: epoch = 30, test_size = 4939, HR = 0.3323, NDCG = 0.1939\n",
      "VAECF: epoch = 40, test_size = 4939, HR = 0.3404, NDCG = 0.1990\n",
      "VAECF: test_size = 4939, HR = 0.3442, NDCG = 0.2012\n",
      "msd-exp-80-160 0.00681686464277 (0.3352905446446649, 0.19841170424847648) (0.5005061753391374, 0.32156909142983936) (0.3441992306134845, 0.20115084875523673)\n",
      "preparing msd-exp-80-80\n",
      "loading msd-exp-80-80\n",
      "Item Popularity, testSize=7445, HitRate=0.3169, NDCG=0.1928\n",
      "ItemCF, testSize = 7445, HR = 0.4948, NDCG = 0.3293\n",
      "INFO:tensorflow:Scale of 0 disables regularizer.\n",
      "VAECF: epoch = 0, test_size = 7445, HR = 0.1257, NDCG = 0.0581\n",
      "VAECF: epoch = 10, test_size = 7445, HR = 0.2797, NDCG = 0.1622\n",
      "VAECF: epoch = 20, test_size = 7445, HR = 0.3080, NDCG = 0.1861\n",
      "VAECF: epoch = 30, test_size = 7445, HR = 0.3197, NDCG = 0.1946\n",
      "VAECF: epoch = 40, test_size = 7445, HR = 0.3276, NDCG = 0.1984\n",
      "VAECF: test_size = 7445, HR = 0.3283, NDCG = 0.1986\n",
      "msd-exp-80-80 0.00407842846017 (0.31685695097380795, 0.19279750357375622) (0.49482874412357286, 0.3292918979697247) (0.3282740094022834, 0.19856800280646916)\n",
      "preparing msd-exp-80-40\n",
      "loading msd-exp-80-40\n",
      "Item Popularity, testSize=9890, HitRate=0.3096, NDCG=0.1934\n",
      "ItemCF, testSize = 9890, HR = 0.4785, NDCG = 0.3267\n",
      "INFO:tensorflow:Scale of 0 disables regularizer.\n",
      "VAECF: epoch = 0, test_size = 9890, HR = 0.1290, NDCG = 0.0610\n",
      "VAECF: epoch = 10, test_size = 9890, HR = 0.2639, NDCG = 0.1516\n",
      "VAECF: epoch = 20, test_size = 9890, HR = 0.2921, NDCG = 0.1788\n",
      "VAECF: epoch = 30, test_size = 9890, HR = 0.3111, NDCG = 0.1927\n",
      "VAECF: epoch = 40, test_size = 9890, HR = 0.3185, NDCG = 0.1982\n",
      "VAECF: test_size = 9890, HR = 0.3206, NDCG = 0.1989\n",
      "msd-exp-80-40 0.00258397259591 (0.30960566228513653, 0.19343563888280926) (0.47846309403437814, 0.32673361093074366) (0.3206268958543984, 0.19894191921287455)\n",
      "preparing msd-exp-80-20\n",
      "loading msd-exp-80-20\n",
      "Item Popularity, testSize=10000, HitRate=0.2947, NDCG=0.1844\n",
      "ItemCF, testSize = 10000, HR = 0.4424, NDCG = 0.3063\n",
      "INFO:tensorflow:Scale of 0 disables regularizer.\n",
      "VAECF: epoch = 0, test_size = 10000, HR = 0.1223, NDCG = 0.0578\n",
      "VAECF: epoch = 10, test_size = 10000, HR = 0.2477, NDCG = 0.1440\n",
      "VAECF: epoch = 20, test_size = 10000, HR = 0.2750, NDCG = 0.1716\n",
      "VAECF: epoch = 30, test_size = 10000, HR = 0.2919, NDCG = 0.1846\n",
      "VAECF: epoch = 40, test_size = 10000, HR = 0.3025, NDCG = 0.1890\n",
      "VAECF: test_size = 10000, HR = 0.3047, NDCG = 0.1902\n",
      "msd-exp-80-20 0.00168043848397 (0.2947, 0.18437665990310653) (0.4424, 0.30629451415978903) (0.3047, 0.1902048090585786)\n",
      "preparing msd-exp-40-160\n",
      "loading msd-exp-40-160\n",
      "Item Popularity, testSize=10000, HitRate=0.3467, NDCG=0.2062\n",
      "ItemCF, testSize = 10000, HR = 0.6505, NDCG = 0.4466\n",
      "INFO:tensorflow:Scale of 0 disables regularizer.\n",
      "VAECF: epoch = 0, test_size = 10000, HR = 0.3351, NDCG = 0.1989\n",
      "VAECF: epoch = 10, test_size = 10000, HR = 0.4707, NDCG = 0.3052\n",
      "VAECF: epoch = 20, test_size = 10000, HR = 0.6259, NDCG = 0.4210\n",
      "VAECF: epoch = 30, test_size = 10000, HR = 0.6684, NDCG = 0.4545\n",
      "VAECF: epoch = 40, test_size = 10000, HR = 0.6766, NDCG = 0.4621\n",
      "VAECF: test_size = 10000, HR = 0.6785, NDCG = 0.4631\n",
      "msd-exp-40-160 0.00490023155918 (0.3467, 0.2062175422000055) (0.6505, 0.4466307736796124) (0.6785, 0.46312847960881115)\n",
      "preparing msd-exp-40-80\n",
      "loading msd-exp-40-80\n",
      "Item Popularity, testSize=10000, HitRate=0.3553, NDCG=0.2155\n",
      "ItemCF, testSize = 10000, HR = 0.7218, NDCG = 0.5209\n",
      "INFO:tensorflow:Scale of 0 disables regularizer.\n",
      "VAECF: epoch = 0, test_size = 10000, HR = 0.3610, NDCG = 0.2160\n",
      "VAECF: epoch = 10, test_size = 10000, HR = 0.4897, NDCG = 0.3153\n",
      "VAECF: epoch = 20, test_size = 10000, HR = 0.6536, NDCG = 0.4500\n",
      "VAECF: epoch = 30, test_size = 10000, HR = 0.7049, NDCG = 0.4926\n",
      "VAECF: epoch = 40, test_size = 10000, HR = 0.7208, NDCG = 0.5103\n",
      "VAECF: test_size = 10000, HR = 0.7225, NDCG = 0.5134\n",
      "msd-exp-40-80 0.00285409966766 (0.3553, 0.21550076462878073) (0.7218, 0.5208770634615149) (0.7225, 0.5134378801553401)\n",
      "preparing msd-exp-40-40\n",
      "loading msd-exp-40-40\n",
      "Item Popularity, testSize=10000, HitRate=0.3780, NDCG=0.2308\n",
      "ItemCF, testSize = 10000, HR = 0.7522, NDCG = 0.5698\n",
      "INFO:tensorflow:Scale of 0 disables regularizer.\n",
      "VAECF: epoch = 0, test_size = 10000, HR = 0.3723, NDCG = 0.2247\n",
      "VAECF: epoch = 10, test_size = 10000, HR = 0.4841, NDCG = 0.3125\n",
      "VAECF: epoch = 20, test_size = 10000, HR = 0.6581, NDCG = 0.4558\n",
      "VAECF: epoch = 30, test_size = 10000, HR = 0.7188, NDCG = 0.5149\n",
      "VAECF: epoch = 40, test_size = 10000, HR = 0.7396, NDCG = 0.5371\n",
      "VAECF: test_size = 10000, HR = 0.7489, NDCG = 0.5454\n",
      "msd-exp-40-40 0.00175723563367 (0.378, 0.23076085357303627) (0.7522, 0.569772386486107) (0.7489, 0.545378448923412)\n",
      "preparing msd-exp-40-20\n",
      "loading msd-exp-40-20\n",
      "Item Popularity, testSize=10000, HitRate=0.4116, NDCG=0.2529\n",
      "ItemCF, testSize = 10000, HR = 0.7674, NDCG = 0.6089\n",
      "INFO:tensorflow:Scale of 0 disables regularizer.\n",
      "VAECF: epoch = 0, test_size = 10000, HR = 0.3985, NDCG = 0.2444\n",
      "VAECF: epoch = 10, test_size = 10000, HR = 0.4841, NDCG = 0.3183\n",
      "VAECF: epoch = 20, test_size = 10000, HR = 0.6586, NDCG = 0.4659\n",
      "VAECF: epoch = 30, test_size = 10000, HR = 0.7206, NDCG = 0.5330\n",
      "VAECF: epoch = 40, test_size = 10000, HR = 0.7468, NDCG = 0.5620\n",
      "VAECF: test_size = 10000, HR = 0.7558, NDCG = 0.5713\n",
      "msd-exp-40-20 0.00111101816707 (0.4116, 0.25290110383419784) (0.7674, 0.6088701233278204) (0.7558, 0.5713335075464714)\n",
      "preparing msd-exp-20-160\n",
      "loading msd-exp-20-160\n",
      "Item Popularity, testSize=10000, HitRate=0.3431, NDCG=0.2055\n",
      "ItemCF, testSize = 10000, HR = 0.6643, NDCG = 0.4590\n",
      "INFO:tensorflow:Scale of 0 disables regularizer.\n",
      "VAECF: epoch = 0, test_size = 10000, HR = 0.3459, NDCG = 0.2087\n",
      "VAECF: epoch = 10, test_size = 10000, HR = 0.6510, NDCG = 0.4444\n",
      "VAECF: epoch = 20, test_size = 10000, HR = 0.6748, NDCG = 0.4626\n",
      "VAECF: epoch = 30, test_size = 10000, HR = 0.6669, NDCG = 0.4559\n",
      "VAECF: epoch = 40, test_size = 10000, HR = 0.6634, NDCG = 0.4522\n",
      "VAECF: test_size = 10000, HR = 0.6748, NDCG = 0.4626\n",
      "msd-exp-20-160 0.00361557568122 (0.3431, 0.20545819394224937) (0.6643, 0.4589852568098936) (0.6748, 0.4626147635279628)\n",
      "preparing msd-exp-20-80\n",
      "loading msd-exp-20-80\n",
      "Item Popularity, testSize=10000, HitRate=0.3489, NDCG=0.2107\n",
      "ItemCF, testSize = 10000, HR = 0.7406, NDCG = 0.5400\n",
      "INFO:tensorflow:Scale of 0 disables regularizer.\n",
      "VAECF: epoch = 0, test_size = 10000, HR = 0.3553, NDCG = 0.2132\n",
      "VAECF: epoch = 10, test_size = 10000, HR = 0.6889, NDCG = 0.4815\n",
      "VAECF: epoch = 20, test_size = 10000, HR = 0.7284, NDCG = 0.5187\n",
      "VAECF: epoch = 30, test_size = 10000, HR = 0.7286, NDCG = 0.5212\n",
      "VAECF: epoch = 40, test_size = 10000, HR = 0.7231, NDCG = 0.5138\n",
      "VAECF: test_size = 10000, HR = 0.7311, NDCG = 0.5222\n",
      "msd-exp-20-80 0.0020634581452 (0.3489, 0.21067291091823964) (0.7406, 0.5400111638746352) (0.7311, 0.5221730946972202)\n",
      "preparing msd-exp-20-40\n",
      "loading msd-exp-20-40\n",
      "Item Popularity, testSize=10000, HitRate=0.3713, NDCG=0.2262\n",
      "ItemCF, testSize = 10000, HR = 0.7773, NDCG = 0.5958\n",
      "INFO:tensorflow:Scale of 0 disables regularizer.\n",
      "VAECF: epoch = 0, test_size = 10000, HR = 0.3724, NDCG = 0.2265\n",
      "VAECF: epoch = 10, test_size = 10000, HR = 0.6864, NDCG = 0.4860\n",
      "VAECF: epoch = 20, test_size = 10000, HR = 0.7557, NDCG = 0.5520\n",
      "VAECF: epoch = 30, test_size = 10000, HR = 0.7623, NDCG = 0.5571\n",
      "VAECF: epoch = 40, test_size = 10000, HR = 0.7550, NDCG = 0.5492\n",
      "VAECF: test_size = 10000, HR = 0.7623, NDCG = 0.5582\n",
      "msd-exp-20-40 0.00125226646685 (0.3713, 0.22618287491618877) (0.7773, 0.5958204476448711) (0.7623, 0.5581978951978999)\n",
      "preparing msd-exp-20-20\n",
      "loading msd-exp-20-20\n",
      "Item Popularity, testSize=10000, HitRate=0.4044, NDCG=0.2456\n",
      "ItemCF, testSize = 10000, HR = 0.7954, NDCG = 0.6345\n",
      "INFO:tensorflow:Scale of 0 disables regularizer.\n",
      "VAECF: epoch = 0, test_size = 10000, HR = 0.4048, NDCG = 0.2454\n",
      "VAECF: epoch = 10, test_size = 10000, HR = 0.6885, NDCG = 0.4939\n",
      "VAECF: epoch = 20, test_size = 10000, HR = 0.7683, NDCG = 0.5767\n"
     ]
    },
    {
     "name": "stdout",
     "output_type": "stream",
     "text": [
      "VAECF: epoch = 30, test_size = 10000, HR = 0.7803, NDCG = 0.5896\n",
      "VAECF: epoch = 40, test_size = 10000, HR = 0.7730, NDCG = 0.5831\n",
      "VAECF: test_size = 10000, HR = 0.7810, NDCG = 0.5901\n",
      "msd-exp-20-20 0.000783353951951 (0.4044, 0.2456269148803618) (0.7954, 0.6344982025744542) (0.781, 0.5901378837889241)\n",
      "preparing msd-exp-10-160\n",
      "loading msd-exp-10-160\n",
      "Item Popularity, testSize=10000, HitRate=0.3415, NDCG=0.2024\n",
      "ItemCF, testSize = 10000, HR = 0.6727, NDCG = 0.4641\n",
      "INFO:tensorflow:Scale of 0 disables regularizer.\n",
      "VAECF: epoch = 0, test_size = 10000, HR = 0.3448, NDCG = 0.2057\n",
      "VAECF: epoch = 10, test_size = 10000, HR = 0.6760, NDCG = 0.4617\n",
      "VAECF: epoch = 20, test_size = 10000, HR = 0.6746, NDCG = 0.4592\n",
      "VAECF: epoch = 30, test_size = 10000, HR = 0.6762, NDCG = 0.4597\n",
      "VAECF: epoch = 40, test_size = 10000, HR = 0.6778, NDCG = 0.4603\n",
      "VAECF: test_size = 10000, HR = 0.6808, NDCG = 0.4650\n",
      "msd-exp-10-160 0.00276223498673 (0.3415, 0.2024338049460049) (0.6727, 0.4640574665879545) (0.6808, 0.4649977342197932)\n",
      "preparing msd-exp-10-80\n",
      "loading msd-exp-10-80\n",
      "Item Popularity, testSize=10000, HitRate=0.3435, NDCG=0.2057\n",
      "ItemCF, testSize = 10000, HR = 0.7443, NDCG = 0.5413\n",
      "INFO:tensorflow:Scale of 0 disables regularizer.\n",
      "VAECF: epoch = 0, test_size = 10000, HR = 0.3461, NDCG = 0.2068\n",
      "VAECF: epoch = 10, test_size = 10000, HR = 0.7165, NDCG = 0.5056\n",
      "VAECF: epoch = 20, test_size = 10000, HR = 0.7272, NDCG = 0.5151\n",
      "VAECF: epoch = 30, test_size = 10000, HR = 0.7239, NDCG = 0.5109\n",
      "VAECF: epoch = 40, test_size = 10000, HR = 0.7197, NDCG = 0.5071\n",
      "VAECF: test_size = 10000, HR = 0.7284, NDCG = 0.5158\n",
      "msd-exp-10-80 0.00155612323805 (0.3435, 0.20565633034789466) (0.7443, 0.5412888024261929) (0.7284, 0.5158294405395657)\n",
      "preparing msd-exp-10-40\n",
      "loading msd-exp-10-40\n",
      "Item Popularity, testSize=10000, HitRate=0.3697, NDCG=0.2269\n",
      "ItemCF, testSize = 10000, HR = 0.7867, NDCG = 0.6039\n",
      "INFO:tensorflow:Scale of 0 disables regularizer.\n",
      "VAECF: epoch = 0, test_size = 10000, HR = 0.3707, NDCG = 0.2265\n",
      "VAECF: epoch = 10, test_size = 10000, HR = 0.7385, NDCG = 0.5369\n",
      "VAECF: epoch = 20, test_size = 10000, HR = 0.7682, NDCG = 0.5653\n"
     ]
    },
    {
     "ename": "KeyboardInterrupt",
     "evalue": "",
     "output_type": "error",
     "traceback": [
      "\u001b[0;31m---------------------------------------------------------------------------\u001b[0m",
      "\u001b[0;31mKeyboardInterrupt\u001b[0m                         Traceback (most recent call last)",
      "\u001b[0;32m<ipython-input-102-979ebecbd57e>\u001b[0m in \u001b[0;36m<module>\u001b[0;34m()\u001b[0m\n\u001b[1;32m     46\u001b[0m \u001b[0;34m\u001b[0m\u001b[0m\n\u001b[1;32m     47\u001b[0m         \u001b[0;31m# vaecf\u001b[0m\u001b[0;34m\u001b[0m\u001b[0;34m\u001b[0m\u001b[0m\n\u001b[0;32m---> 48\u001b[0;31m         \u001b[0mhr3\u001b[0m\u001b[0;34m,\u001b[0m \u001b[0mndcg3\u001b[0m \u001b[0;34m=\u001b[0m \u001b[0mtest_vaecf\u001b[0m\u001b[0;34m(\u001b[0m\u001b[0mn_users\u001b[0m\u001b[0;34m,\u001b[0m \u001b[0mn_items\u001b[0m\u001b[0;34m,\u001b[0m \u001b[0mtrain_data\u001b[0m\u001b[0;34m,\u001b[0m \u001b[0mvad_data_tr\u001b[0m\u001b[0;34m,\u001b[0m \u001b[0mvad_data_te\u001b[0m\u001b[0;34m,\u001b[0m \u001b[0mtestRatings\u001b[0m\u001b[0;34m,\u001b[0m \u001b[0mtestNegatives\u001b[0m\u001b[0;34m,\u001b[0m \u001b[0mn_epochs\u001b[0m\u001b[0;34m=\u001b[0m\u001b[0;36m50\u001b[0m\u001b[0;34m,\u001b[0m \u001b[0mlr\u001b[0m\u001b[0;34m=\u001b[0m\u001b[0;36m5e-4\u001b[0m\u001b[0;34m)\u001b[0m\u001b[0;34m\u001b[0m\u001b[0m\n\u001b[0m\u001b[1;32m     49\u001b[0m         \u001b[0mvae_hrs\u001b[0m\u001b[0;34m.\u001b[0m\u001b[0mappend\u001b[0m\u001b[0;34m(\u001b[0m\u001b[0mhr3\u001b[0m\u001b[0;34m)\u001b[0m\u001b[0;34m\u001b[0m\u001b[0m\n\u001b[1;32m     50\u001b[0m         \u001b[0mvae_ndcgs\u001b[0m\u001b[0;34m.\u001b[0m\u001b[0mappend\u001b[0m\u001b[0;34m(\u001b[0m\u001b[0mndcg3\u001b[0m\u001b[0;34m)\u001b[0m\u001b[0;34m\u001b[0m\u001b[0m\n",
      "\u001b[0;32m<ipython-input-92-23590fcea67f>\u001b[0m in \u001b[0;36mtest_vaecf\u001b[0;34m(n_users, n_items, train_data, vad_data_tr, vad_data_te, testRatings, testNegatives, n_epochs, lr, topk, limit)\u001b[0m\n\u001b[1;32m     86\u001b[0m                              \u001b[0mvae\u001b[0m\u001b[0;34m.\u001b[0m\u001b[0manneal_ph\u001b[0m\u001b[0;34m:\u001b[0m \u001b[0manneal\u001b[0m\u001b[0;34m,\u001b[0m\u001b[0;34m\u001b[0m\u001b[0m\n\u001b[1;32m     87\u001b[0m                              vae.is_training_ph: 1}        \n\u001b[0;32m---> 88\u001b[0;31m                 \u001b[0msess\u001b[0m\u001b[0;34m.\u001b[0m\u001b[0mrun\u001b[0m\u001b[0;34m(\u001b[0m\u001b[0mtrain_op_var\u001b[0m\u001b[0;34m,\u001b[0m \u001b[0mfeed_dict\u001b[0m\u001b[0;34m=\u001b[0m\u001b[0mfeed_dict\u001b[0m\u001b[0;34m)\u001b[0m\u001b[0;34m\u001b[0m\u001b[0m\n\u001b[0m\u001b[1;32m     89\u001b[0m \u001b[0;34m\u001b[0m\u001b[0m\n\u001b[1;32m     90\u001b[0m                 \u001b[0;32mif\u001b[0m \u001b[0mbnum\u001b[0m \u001b[0;34m%\u001b[0m \u001b[0;36m100\u001b[0m \u001b[0;34m==\u001b[0m \u001b[0;36m0\u001b[0m\u001b[0;34m:\u001b[0m\u001b[0;34m\u001b[0m\u001b[0m\n",
      "\u001b[0;32m/usr/local/lib/python2.7/site-packages/tensorflow/python/client/session.pyc\u001b[0m in \u001b[0;36mrun\u001b[0;34m(self, fetches, feed_dict, options, run_metadata)\u001b[0m\n\u001b[1;32m    903\u001b[0m     \u001b[0;32mtry\u001b[0m\u001b[0;34m:\u001b[0m\u001b[0;34m\u001b[0m\u001b[0m\n\u001b[1;32m    904\u001b[0m       result = self._run(None, fetches, feed_dict, options_ptr,\n\u001b[0;32m--> 905\u001b[0;31m                          run_metadata_ptr)\n\u001b[0m\u001b[1;32m    906\u001b[0m       \u001b[0;32mif\u001b[0m \u001b[0mrun_metadata\u001b[0m\u001b[0;34m:\u001b[0m\u001b[0;34m\u001b[0m\u001b[0m\n\u001b[1;32m    907\u001b[0m         \u001b[0mproto_data\u001b[0m \u001b[0;34m=\u001b[0m \u001b[0mtf_session\u001b[0m\u001b[0;34m.\u001b[0m\u001b[0mTF_GetBuffer\u001b[0m\u001b[0;34m(\u001b[0m\u001b[0mrun_metadata_ptr\u001b[0m\u001b[0;34m)\u001b[0m\u001b[0;34m\u001b[0m\u001b[0m\n",
      "\u001b[0;32m/usr/local/lib/python2.7/site-packages/tensorflow/python/client/session.pyc\u001b[0m in \u001b[0;36m_run\u001b[0;34m(self, handle, fetches, feed_dict, options, run_metadata)\u001b[0m\n\u001b[1;32m   1138\u001b[0m     \u001b[0;32mif\u001b[0m \u001b[0mfinal_fetches\u001b[0m \u001b[0;32mor\u001b[0m \u001b[0mfinal_targets\u001b[0m \u001b[0;32mor\u001b[0m \u001b[0;34m(\u001b[0m\u001b[0mhandle\u001b[0m \u001b[0;32mand\u001b[0m \u001b[0mfeed_dict_tensor\u001b[0m\u001b[0;34m)\u001b[0m\u001b[0;34m:\u001b[0m\u001b[0;34m\u001b[0m\u001b[0m\n\u001b[1;32m   1139\u001b[0m       results = self._do_run(handle, final_targets, final_fetches,\n\u001b[0;32m-> 1140\u001b[0;31m                              feed_dict_tensor, options, run_metadata)\n\u001b[0m\u001b[1;32m   1141\u001b[0m     \u001b[0;32melse\u001b[0m\u001b[0;34m:\u001b[0m\u001b[0;34m\u001b[0m\u001b[0m\n\u001b[1;32m   1142\u001b[0m       \u001b[0mresults\u001b[0m \u001b[0;34m=\u001b[0m \u001b[0;34m[\u001b[0m\u001b[0;34m]\u001b[0m\u001b[0;34m\u001b[0m\u001b[0m\n",
      "\u001b[0;32m/usr/local/lib/python2.7/site-packages/tensorflow/python/client/session.pyc\u001b[0m in \u001b[0;36m_do_run\u001b[0;34m(self, handle, target_list, fetch_list, feed_dict, options, run_metadata)\u001b[0m\n\u001b[1;32m   1319\u001b[0m     \u001b[0;32mif\u001b[0m \u001b[0mhandle\u001b[0m \u001b[0;32mis\u001b[0m \u001b[0mNone\u001b[0m\u001b[0;34m:\u001b[0m\u001b[0;34m\u001b[0m\u001b[0m\n\u001b[1;32m   1320\u001b[0m       return self._do_call(_run_fn, feeds, fetches, targets, options,\n\u001b[0;32m-> 1321\u001b[0;31m                            run_metadata)\n\u001b[0m\u001b[1;32m   1322\u001b[0m     \u001b[0;32melse\u001b[0m\u001b[0;34m:\u001b[0m\u001b[0;34m\u001b[0m\u001b[0m\n\u001b[1;32m   1323\u001b[0m       \u001b[0;32mreturn\u001b[0m \u001b[0mself\u001b[0m\u001b[0;34m.\u001b[0m\u001b[0m_do_call\u001b[0m\u001b[0;34m(\u001b[0m\u001b[0m_prun_fn\u001b[0m\u001b[0;34m,\u001b[0m \u001b[0mhandle\u001b[0m\u001b[0;34m,\u001b[0m \u001b[0mfeeds\u001b[0m\u001b[0;34m,\u001b[0m \u001b[0mfetches\u001b[0m\u001b[0;34m)\u001b[0m\u001b[0;34m\u001b[0m\u001b[0m\n",
      "\u001b[0;32m/usr/local/lib/python2.7/site-packages/tensorflow/python/client/session.pyc\u001b[0m in \u001b[0;36m_do_call\u001b[0;34m(self, fn, *args)\u001b[0m\n\u001b[1;32m   1325\u001b[0m   \u001b[0;32mdef\u001b[0m \u001b[0m_do_call\u001b[0m\u001b[0;34m(\u001b[0m\u001b[0mself\u001b[0m\u001b[0;34m,\u001b[0m \u001b[0mfn\u001b[0m\u001b[0;34m,\u001b[0m \u001b[0;34m*\u001b[0m\u001b[0margs\u001b[0m\u001b[0;34m)\u001b[0m\u001b[0;34m:\u001b[0m\u001b[0;34m\u001b[0m\u001b[0m\n\u001b[1;32m   1326\u001b[0m     \u001b[0;32mtry\u001b[0m\u001b[0;34m:\u001b[0m\u001b[0;34m\u001b[0m\u001b[0m\n\u001b[0;32m-> 1327\u001b[0;31m       \u001b[0;32mreturn\u001b[0m \u001b[0mfn\u001b[0m\u001b[0;34m(\u001b[0m\u001b[0;34m*\u001b[0m\u001b[0margs\u001b[0m\u001b[0;34m)\u001b[0m\u001b[0;34m\u001b[0m\u001b[0m\n\u001b[0m\u001b[1;32m   1328\u001b[0m     \u001b[0;32mexcept\u001b[0m \u001b[0merrors\u001b[0m\u001b[0;34m.\u001b[0m\u001b[0mOpError\u001b[0m \u001b[0;32mas\u001b[0m \u001b[0me\u001b[0m\u001b[0;34m:\u001b[0m\u001b[0;34m\u001b[0m\u001b[0m\n\u001b[1;32m   1329\u001b[0m       \u001b[0mmessage\u001b[0m \u001b[0;34m=\u001b[0m \u001b[0mcompat\u001b[0m\u001b[0;34m.\u001b[0m\u001b[0mas_text\u001b[0m\u001b[0;34m(\u001b[0m\u001b[0me\u001b[0m\u001b[0;34m.\u001b[0m\u001b[0mmessage\u001b[0m\u001b[0;34m)\u001b[0m\u001b[0;34m\u001b[0m\u001b[0m\n",
      "\u001b[0;32m/usr/local/lib/python2.7/site-packages/tensorflow/python/client/session.pyc\u001b[0m in \u001b[0;36m_run_fn\u001b[0;34m(feed_dict, fetch_list, target_list, options, run_metadata)\u001b[0m\n\u001b[1;32m   1310\u001b[0m       \u001b[0mself\u001b[0m\u001b[0;34m.\u001b[0m\u001b[0m_extend_graph\u001b[0m\u001b[0;34m(\u001b[0m\u001b[0;34m)\u001b[0m\u001b[0;34m\u001b[0m\u001b[0m\n\u001b[1;32m   1311\u001b[0m       return self._call_tf_sessionrun(\n\u001b[0;32m-> 1312\u001b[0;31m           options, feed_dict, fetch_list, target_list, run_metadata)\n\u001b[0m\u001b[1;32m   1313\u001b[0m \u001b[0;34m\u001b[0m\u001b[0m\n\u001b[1;32m   1314\u001b[0m     \u001b[0;32mdef\u001b[0m \u001b[0m_prun_fn\u001b[0m\u001b[0;34m(\u001b[0m\u001b[0mhandle\u001b[0m\u001b[0;34m,\u001b[0m \u001b[0mfeed_dict\u001b[0m\u001b[0;34m,\u001b[0m \u001b[0mfetch_list\u001b[0m\u001b[0;34m)\u001b[0m\u001b[0;34m:\u001b[0m\u001b[0;34m\u001b[0m\u001b[0m\n",
      "\u001b[0;32m/usr/local/lib/python2.7/site-packages/tensorflow/python/client/session.pyc\u001b[0m in \u001b[0;36m_call_tf_sessionrun\u001b[0;34m(self, options, feed_dict, fetch_list, target_list, run_metadata)\u001b[0m\n\u001b[1;32m   1418\u001b[0m         return tf_session.TF_Run(\n\u001b[1;32m   1419\u001b[0m             \u001b[0mself\u001b[0m\u001b[0;34m.\u001b[0m\u001b[0m_session\u001b[0m\u001b[0;34m,\u001b[0m \u001b[0moptions\u001b[0m\u001b[0;34m,\u001b[0m \u001b[0mfeed_dict\u001b[0m\u001b[0;34m,\u001b[0m \u001b[0mfetch_list\u001b[0m\u001b[0;34m,\u001b[0m \u001b[0mtarget_list\u001b[0m\u001b[0;34m,\u001b[0m\u001b[0;34m\u001b[0m\u001b[0m\n\u001b[0;32m-> 1420\u001b[0;31m             status, run_metadata)\n\u001b[0m\u001b[1;32m   1421\u001b[0m \u001b[0;34m\u001b[0m\u001b[0m\n\u001b[1;32m   1422\u001b[0m   \u001b[0;32mdef\u001b[0m \u001b[0m_call_tf_sessionprun\u001b[0m\u001b[0;34m(\u001b[0m\u001b[0mself\u001b[0m\u001b[0;34m,\u001b[0m \u001b[0mhandle\u001b[0m\u001b[0;34m,\u001b[0m \u001b[0mfeed_dict\u001b[0m\u001b[0;34m,\u001b[0m \u001b[0mfetch_list\u001b[0m\u001b[0;34m)\u001b[0m\u001b[0;34m:\u001b[0m\u001b[0;34m\u001b[0m\u001b[0m\n",
      "\u001b[0;31mKeyboardInterrupt\u001b[0m: "
     ]
    }
   ],
   "source": [
    "sparsities = []\n",
    "training_sizes = []\n",
    "itempop_hrs = []\n",
    "itempop_ndcgs = []\n",
    "itemcf_hrs = []\n",
    "itemcf_ndcgs = []\n",
    "vae_hrs = []\n",
    "vae_ndcgs = []\n",
    "for user_threashold in [80,40,20]:\n",
    "    for song_threashold in [160,80,40]:\n",
    "        train_dir = \"../train/\"\n",
    "        dataset_name='msd-exp-'+str(user_threashold)+'-'+str(song_threashold)\n",
    "        \n",
    "        if not os.path.exists(os.path.join(train_dir, '%s.done' % dataset_name)):\n",
    "            print 'preparing',dataset_name\n",
    "            utils.data_generation(raw_data, train_dir, song_threashold, user_threashold, dataset_prefix=dataset_name)\n",
    "            done_file = os.path.join(train_dir, '%s.done' % dataset_name)\n",
    "            with open(done_file,'w') as f:\n",
    "                f.write(str(time.time()))\n",
    "        \n",
    "        print 'loading',dataset_name\n",
    "        \n",
    "        n_users, n_items, train_data = utils.load_train_data(os.path.join(train_dir, '%s.train.rating' % dataset_name))\n",
    "        testRatings =  utils.load_rating_file_as_list(\"../train/%s.test.rating\" % dataset_name)\n",
    "        testNegatives = utils.load_negative_file(\"../train/%s.test.negative\" % dataset_name)\n",
    "        vad_data_tr = utils.load_test_data(os.path.join(train_dir, '%s.train.rating' % dataset_name),n_users, n_items)\n",
    "        vad_data_te = utils.load_test_data(os.path.join(train_dir, '%s.test.rating' % dataset_name),n_users, n_items)\n",
    "        \n",
    "        topk = 10\n",
    "        limit = 10000\n",
    "        \n",
    "        if n_users == 0 or n_items == 0:\n",
    "            continue\n",
    "        \n",
    "        sparsity = 1.0*train_data.count_nonzero()/(n_users*n_items)\n",
    "        sparsities.append(sparsity)\n",
    "        training_sizes.append(train_data.count_nonzero())\n",
    "        \n",
    "        # item_pop\n",
    "        hr1, ndcg1 = test_item_popularity(train_data, testRatings, testNegatives, topk, limit)\n",
    "        itempop_hrs.append(hr1)\n",
    "        itempop_ndcgs.append(ndcg1)\n",
    "        \n",
    "        # itemcf\n",
    "        hr2, ndcg2 = test_itemcf(dataset_name, testRatings, testNegatives, topk=topk, limit=limit)\n",
    "        itemcf_hrs.append(hr2)\n",
    "        itemcf_ndcgs.append(ndcg2)\n",
    "        \n",
    "        # vaecf\n",
    "        hr3, ndcg3 = test_vaecf(n_users, n_items, train_data, vad_data_tr, vad_data_te, testRatings, testNegatives, n_epochs=50, lr=5e-4)\n",
    "        vae_hrs.append(hr3)\n",
    "        vae_ndcgs.append(ndcg3)\n",
    "        print dataset_name, sparsity, (hr1, ndcg1), (hr2, ndcg2), (hr3, ndcg3)\n",
    "        "
   ]
  },
  {
   "cell_type": "code",
   "execution_count": 113,
   "metadata": {},
   "outputs": [
    {
     "data": {
      "image/png": "[encoded data removed]",
      "text/plain": [
       "<Figure size 432x288 with 1 Axes>"
      ]
     },
     "metadata": {},
     "output_type": "display_data"
    }
   ],
   "source": [
    "l = 10\n",
    "plt.plot(sparsities[:l],itempop_hrs[:l],'.')\n",
    "plt.plot(sparsities[:l],itemcf_hrs[:l],'.')\n",
    "plt.plot(sparsities[:l],vae_hrs[:l],'.')\n",
    "plt.xlabel('sparsity')\n",
    "plt.ylabel('HitRate')\n",
    "plt.legend(['ItemPop','ItemCF','VAECF'])\n",
    "pass"
   ]
  },
  {
   "cell_type": "code",
   "execution_count": 122,
   "metadata": {},
   "outputs": [
    {
     "name": "stdout",
     "output_type": "stream",
     "text": [
      "0.000783 [('ItemCF', 0.7954), ('VAECF', 0.781), ('ItemPop', 0.4044)]\n",
      "0.001111 [('ItemCF', 0.7674), ('VAECF', 0.7558), ('ItemPop', 0.4116)]\n",
      "0.001252 [('ItemCF', 0.7773), ('VAECF', 0.7623), ('ItemPop', 0.3713)]\n",
      "0.001556 [('ItemCF', 0.7443), ('VAECF', 0.7284), ('ItemPop', 0.3435)]\n",
      "0.00168 [('ItemCF', 0.4424), ('VAECF', 0.3047), ('ItemPop', 0.2947)]\n",
      "0.001757 [('ItemCF', 0.7522), ('VAECF', 0.7489), ('ItemPop', 0.378)]\n",
      "0.002063 [('ItemCF', 0.7406), ('VAECF', 0.7311), ('ItemPop', 0.3489)]\n",
      "0.002584 [('ItemCF', 0.47846309403437814), ('VAECF', 0.3206268958543984), ('ItemPop', 0.30960566228513653)]\n",
      "0.002762 [('VAECF', 0.6808), ('ItemCF', 0.6727), ('ItemPop', 0.3415)]\n",
      "0.002854 [('VAECF', 0.7225), ('ItemCF', 0.7218), ('ItemPop', 0.3553)]\n",
      "0.003616 [('VAECF', 0.6748), ('ItemCF', 0.6643), ('ItemPop', 0.3431)]\n",
      "0.004078 [('ItemCF', 0.49482874412357286), ('VAECF', 0.3282740094022834), ('ItemPop', 0.31685695097380795)]\n",
      "0.0049 [('VAECF', 0.6785), ('ItemCF', 0.6505), ('ItemPop', 0.3467)]\n",
      "0.006817 [('ItemCF', 0.5005061753391374), ('VAECF', 0.3441992306134845), ('ItemPop', 0.3352905446446649)]\n"
     ]
    }
   ],
   "source": [
    "exp_results = {}\n",
    "for i in range(14):\n",
    "    result = {'ItemPop': itempop_hrs[i], 'ItemCF': itemcf_hrs[i], 'VAECF': vae_hrs[i]}\n",
    "    exp_results[round(sparsities[i],6)] = sorted(result.items(), key=lambda x:x[1], reverse=True)\n",
    "\n",
    "s_exp = sorted(exp_results.items(), key=lambda x:x[0])\n",
    "plot_sparsity = []\n",
    "plot_itempop = []\n",
    "plot_itemcf = []\n",
    "plot_vae = []\n",
    "for (s,r) in s_exp:\n",
    "    print s,r\n",
    "    if s<0.004:\n",
    "        plot_sparsity.append(s)\n",
    "        plot_itempop.append(dict(r)['ItemPop'])\n",
    "        plot_itemcf.append(dict(r)['ItemCF'])\n",
    "        plot_vae.append(dict(r)['VAECF'])"
   ]
  },
  {
   "cell_type": "code",
   "execution_count": 123,
   "metadata": {},
   "outputs": [
    {
     "data": {
      "image/png": "[encoded data removed]",
      "text/plain": [
       "<Figure size 432x288 with 1 Axes>"
      ]
     },
     "metadata": {},
     "output_type": "display_data"
    }
   ],
   "source": [
    "plt.plot(plot_sparsity,plot_itempop)\n",
    "plt.plot(plot_sparsity,plot_itemcf)\n",
    "plt.plot(plot_sparsity,plot_vae)\n",
    "plt.xlabel('sparsity')\n",
    "plt.ylabel('HitRate')\n",
    "plt.legend(['ItemPop','ItemCF','VAECF'])\n",
    "# 当歌曲收听数阈值低的时候，VAE 效果没那么好\n",
    "pass"
   ]
  },
  {
   "cell_type": "code",
   "execution_count": 127,
   "metadata": {},
   "outputs": [],
   "source": [
    "def nonzeros(m, row):\n",
    "    \"\"\" returns the non zeroes of a row in csr_matrix \"\"\"\n",
    "    for index in range(m.indptr[row], m.indptr[row+1]):\n",
    "        yield m.indices[index], m.data[index]\n",
    "\n",
    "def alternating_least_squares(Cui, factors, regularization, iterations=20):\n",
    "    users, items = Cui.shape\n",
    "\n",
    "    X = np.random.rand(users, factors) * 0.01\n",
    "    Y = np.random.rand(items, factors) * 0.01\n",
    "\n",
    "    Ciu = Cui.T.tocsr()\n",
    "    for iteration in range(iterations):\n",
    "        least_squares(Cui, X, Y, regularization)\n",
    "        least_squares(Ciu, Y, X, regularization)\n",
    "\n",
    "    return X, Y\n",
    "\n",
    "def least_squares(Cui, X, Y, regularization):\n",
    "    users, factors = X.shape\n",
    "    YtY = Y.T.dot(Y)\n",
    "\n",
    "    for u in range(users):\n",
    "        # accumulate YtCuY + regularization * I in A\n",
    "        A = YtY + regularization * np.eye(factors)\n",
    "\n",
    "        # accumulate YtCuPu in b\n",
    "        b = np.zeros(factors)\n",
    "\n",
    "        for i, confidence in nonzeros(Cui, u):\n",
    "            factor = Y[i]\n",
    "            A += (confidence - 1) * np.outer(factor, factor)\n",
    "            b += confidence * factor\n",
    "\n",
    "        # Xu = (YtCuY + regularization * I)^-1 (YtCuPu)\n",
    "        X[u] = np.linalg.solve(A, b)\n",
    "        \n",
    "def test_mf_als(train_data, testRatings, testNegatives, n_epochs = 20, factors=64, topk=10, limit=10000):\n",
    "    X, Y = alternating_least_squares(train_data, factors, regularization=0.1, iterations=n_epochs)\n",
    "    pred = np.dot(X,Y.T)\n",
    "    evaluator = eval_utils.vaecf_evaluation(pred, testRatings, testNegatives, topk)\n",
    "    (hits, ndcgs) = evaluator.evaluate(1, limit_size=100000)\n",
    "    hr, ndcg = np.array(hits).mean(), np.array(ndcgs).mean()\n",
    "    print('MF_ALS, test_size = %d, HR = %.4f, NDCG = %.4f'  % ( len(hits), hr, ndcg))\n",
    "    return hr, ndcg"
   ]
  },
  {
   "cell_type": "code",
   "execution_count": 128,
   "metadata": {},
   "outputs": [
    {
     "name": "stdout",
     "output_type": "stream",
     "text": [
      "MF_ALS, test_size = 100000, HR = 0.4894, NDCG = 0.3102\n"
     ]
    },
    {
     "data": {
      "text/plain": [
       "(0.48944, 0.31019620569352474)"
      ]
     },
     "execution_count": 128,
     "metadata": {},
     "output_type": "execute_result"
    }
   ],
   "source": [
    "hr4, ndcg4 = test_mf_als(train_data, testRatings, testNegatives, n_epochs = 20, factors=64, topk=10, limit=10000)\n",
    "hr4, ndcg4"
   ]
  },
  {
   "cell_type": "code",
   "execution_count": 129,
   "metadata": {},
   "outputs": [
    {
     "name": "stdout",
     "output_type": "stream",
     "text": [
      "preparing msd-item-sparse\n"
     ]
    }
   ],
   "source": [
    "dataset_config = {'msd-little':(40,160), 'msd-user-sparse':(10,100),'msd-item-sparse':(40,40)}\n",
    "for k, v in dataset_config.items():\n",
    "    train_dir = \"../train/\"\n",
    "    user_threashold = v[0]\n",
    "    song_threashold = v[1]\n",
    "    dataset_name=k\n",
    "\n",
    "    if not os.path.exists(os.path.join(train_dir, '%s.done' % dataset_name)):\n",
    "        print 'preparing',dataset_name\n",
    "        utils.data_generation(raw_data, train_dir, song_threashold, user_threashold, dataset_prefix=dataset_name)\n",
    "        done_file = os.path.join(train_dir, '%s.done' % dataset_name)\n",
    "        with open(done_file,'w') as f:\n",
    "            f.write(str(time.time()))\n"
   ]
  },
  {
   "cell_type": "code",
   "execution_count": 145,
   "metadata": {},
   "outputs": [
    {
     "name": "stdout",
     "output_type": "stream",
     "text": [
      "loading msd-little\n",
      "Item Popularity, testSize=10000, HitRate=0.3433, NDCG=0.2052\n",
      "ItemCF, testSize = 10000, HR = 0.6495, NDCG = 0.4497\n",
      "INFO:tensorflow:Scale of 0 disables regularizer.\n",
      "VAECF: epoch = 0, test_size = 10000, HR = 0.3338, NDCG = 0.2006\n",
      "VAECF: epoch = 5, test_size = 10000, HR = 0.3581, NDCG = 0.2142\n",
      "VAECF: epoch = 10, test_size = 10000, HR = 0.4059, NDCG = 0.2525\n",
      "VAECF: epoch = 15, test_size = 10000, HR = 0.4944, NDCG = 0.3233\n",
      "VAECF: epoch = 20, test_size = 10000, HR = 0.5729, NDCG = 0.3825\n",
      "VAECF: epoch = 25, test_size = 10000, HR = 0.6176, NDCG = 0.4182\n",
      "VAECF: epoch = 30, test_size = 10000, HR = 0.6431, NDCG = 0.4386\n",
      "VAECF: epoch = 35, test_size = 10000, HR = 0.6568, NDCG = 0.4506\n",
      "VAECF: epoch = 40, test_size = 10000, HR = 0.6664, NDCG = 0.4570\n",
      "VAECF: epoch = 45, test_size = 10000, HR = 0.6687, NDCG = 0.4615\n",
      "VAECF: test_size = 10000, HR = 0.6687, NDCG = 0.4615\n",
      "MF_ALS, test_size = 100000, HR = 0.4889, NDCG = 0.3101\n",
      "msd-little 40 160 0.00490182828307 257874 (0.3433, 0.20521557096023502) (0.6495, 0.44973707292966447) (0.6687, 0.4615036288843632) (0.48891, 0.3101141186792512)\n"
     ]
    }
   ],
   "source": [
    "train_dir = \"../train/\"\n",
    "k='msd-little'\n",
    "user_threashold = dataset_config[k][0]\n",
    "song_threashold = dataset_config[k][1]\n",
    "dataset_name=k\n",
    "print 'loading',dataset_name\n",
    "\n",
    "n_users, n_items, train_data = utils.load_train_data(os.path.join(train_dir, '%s.train.rating' % dataset_name))\n",
    "testRatings =  utils.load_rating_file_as_list(\"../train/%s.test.rating\" % dataset_name)\n",
    "testNegatives = utils.load_negative_file(\"../train/%s.test.negative\" % dataset_name)\n",
    "vad_data_tr = utils.load_test_data(os.path.join(train_dir, '%s.train.rating' % dataset_name),n_users, n_items)\n",
    "vad_data_te = utils.load_test_data(os.path.join(train_dir, '%s.test.rating' % dataset_name),n_users, n_items)\n",
    "\n",
    "topk = 10\n",
    "limit = 10000\n",
    "\n",
    "sparsity = 1.0*train_data.count_nonzero()/(n_users*n_items)\n",
    "sparsities.append(sparsity)\n",
    "training_sizes.append(train_data.count_nonzero())\n",
    "\n",
    "# item_pop\n",
    "hr1, ndcg1 = test_item_popularity(train_data, testRatings, testNegatives, topk, limit)\n",
    "itempop_hrs.append(hr1)\n",
    "itempop_ndcgs.append(ndcg1)\n",
    "\n",
    "# itemcf\n",
    "hr2, ndcg2 = test_itemcf(dataset_name, testRatings, testNegatives, topk=topk, limit=limit)\n",
    "itemcf_hrs.append(hr2)\n",
    "itemcf_ndcgs.append(ndcg2)\n",
    "\n",
    "# vaecf\n",
    "hr3, ndcg3 = test_vaecf(n_users, n_items, train_data, vad_data_tr, vad_data_te, testRatings, testNegatives, n_epochs=50, lr=5e-4, batch_size=1024, n_factor=1000)\n",
    "vae_hrs.append(hr3)\n",
    "vae_ndcgs.append(ndcg3)\n",
    "\n",
    "# mf\n",
    "hr4, ndcg4 = test_mf_als(train_data, testRatings, testNegatives, n_epochs = 20, factors=64, topk=topk, limit=limit)\n",
    "mf_hrs.append(hr4)\n",
    "mf_ndcgs.append(ndcg4)\n",
    "\n",
    "print dataset_name, user_threashold, song_threashold, sparsity, train_data.count_nonzero(), (hr1, ndcg1), (hr2, ndcg2), (hr3, ndcg3), (hr4, ndcg4)"
   ]
  },
  {
   "cell_type": "code",
   "execution_count": null,
   "metadata": {},
   "outputs": [
    {
     "name": "stdout",
     "output_type": "stream",
     "text": [
      "loading msd-little\n",
      "Item Popularity, testSize=10000, HitRate=0.3433, NDCG=0.2052\n",
      "ItemCF, testSize = 10000, HR = 0.6495, NDCG = 0.4497\n",
      "INFO:tensorflow:Scale of 0 disables regularizer.\n",
      "VAECF: epoch = 0, test_size = 10000, HR = 0.3306, NDCG = 0.1989\n",
      "VAECF: epoch = 5, test_size = 10000, HR = 0.3576, NDCG = 0.2139\n",
      "VAECF: epoch = 10, test_size = 10000, HR = 0.4051, NDCG = 0.2516\n",
      "VAECF: epoch = 15, test_size = 10000, HR = 0.4948, NDCG = 0.3225\n",
      "VAECF: epoch = 20, test_size = 10000, HR = 0.5684, NDCG = 0.3802\n",
      "VAECF: epoch = 25, test_size = 10000, HR = 0.6154, NDCG = 0.4173\n",
      "VAECF: epoch = 30, test_size = 10000, HR = 0.6415, NDCG = 0.4375\n",
      "VAECF: epoch = 35, test_size = 10000, HR = 0.6545, NDCG = 0.4494\n",
      "VAECF: epoch = 40, test_size = 10000, HR = 0.6644, NDCG = 0.4560\n",
      "VAECF: epoch = 45, test_size = 10000, HR = 0.6688, NDCG = 0.4603\n",
      "VAECF: test_size = 10000, HR = 0.6688, NDCG = 0.4603\n",
      "MF_ALS, test_size = 100000, HR = 0.4892, NDCG = 0.3106\n",
      "msd-little 40 160 0.00490182828307 257874 (0.3433, 0.20521557096023502) (0.6495, 0.44973707292966447) (0.6688, 0.4602528313917762) (0.48921, 0.3105707975658871)\n",
      "loading msd-user-sparse\n",
      "Item Popularity, testSize=10000, HitRate=0.3397, NDCG=0.2047\n",
      "ItemCF, testSize = 10000, HR = 0.7220, NDCG = 0.5180\n",
      "INFO:tensorflow:Scale of 0 disables regularizer.\n",
      "VAECF: epoch = 0, test_size = 10000, HR = 0.3543, NDCG = 0.2118\n"
     ]
    }
   ],
   "source": [
    "sparsities = []\n",
    "training_sizes = []\n",
    "itempop_hrs = []\n",
    "itempop_ndcgs = []\n",
    "itemcf_hrs = []\n",
    "itemcf_ndcgs = []\n",
    "vae_hrs = []\n",
    "vae_ndcgs = []\n",
    "mf_hrs = []\n",
    "mf_ndcgs = []\n",
    "for k in ['msd-little','msd-user-sparse','msd-item-sparse']:\n",
    "    train_dir = \"../train/\"\n",
    "    user_threashold = dataset_config[k][0]\n",
    "    song_threashold = dataset_config[k][1]\n",
    "    dataset_name=k\n",
    "    print 'loading',dataset_name\n",
    "\n",
    "    n_users, n_items, train_data = utils.load_train_data(os.path.join(train_dir, '%s.train.rating' % dataset_name))\n",
    "    testRatings =  utils.load_rating_file_as_list(\"../train/%s.test.rating\" % dataset_name)\n",
    "    testNegatives = utils.load_negative_file(\"../train/%s.test.negative\" % dataset_name)\n",
    "    vad_data_tr = utils.load_test_data(os.path.join(train_dir, '%s.train.rating' % dataset_name),n_users, n_items)\n",
    "    vad_data_te = utils.load_test_data(os.path.join(train_dir, '%s.test.rating' % dataset_name),n_users, n_items)\n",
    "\n",
    "    topk = 10\n",
    "    limit = 10000\n",
    "\n",
    "    if n_users == 0 or n_items == 0:\n",
    "        continue\n",
    "\n",
    "    sparsity = 1.0*train_data.count_nonzero()/(n_users*n_items)\n",
    "    sparsities.append(sparsity)\n",
    "    training_sizes.append(train_data.count_nonzero())\n",
    "\n",
    "    # item_pop\n",
    "    hr1, ndcg1 = test_item_popularity(train_data, testRatings, testNegatives, topk, limit)\n",
    "    itempop_hrs.append(hr1)\n",
    "    itempop_ndcgs.append(ndcg1)\n",
    "\n",
    "    # itemcf\n",
    "    hr2, ndcg2 = test_itemcf(dataset_name, testRatings, testNegatives, topk=topk, limit=limit)\n",
    "    itemcf_hrs.append(hr2)\n",
    "    itemcf_ndcgs.append(ndcg2)\n",
    "\n",
    "    # vaecf\n",
    "    hr3, ndcg3 = test_vaecf(n_users, n_items, train_data, vad_data_tr, vad_data_te, testRatings, testNegatives, n_epochs=50, lr=5e-4, batch_size=1024, n_factor=1000)\n",
    "    vae_hrs.append(hr3)\n",
    "    vae_ndcgs.append(ndcg3)\n",
    "\n",
    "    # mf\n",
    "    hr4, ndcg4 = test_mf_als(train_data, testRatings, testNegatives, n_epochs = 20, factors=64, topk=topk, limit=limit)\n",
    "    mf_hrs.append(hr4)\n",
    "    mf_ndcgs.append(ndcg4)\n",
    "    \n",
    "    print dataset_name, user_threashold, song_threashold, sparsity, train_data.count_nonzero(), (hr1, ndcg1), (hr2, ndcg2), (hr3, ndcg3), (hr4, ndcg4)"
   ]
  }
 ],
 "metadata": {
  "kernelspec": {
   "display_name": "Python 2",
   "language": "python",
   "name": "python2"
  },
  "language_info": {
   "codemirror_mode": {
    "name": "ipython",
    "version": 2
   },
   "file_extension": ".py",
   "mimetype": "text/x-python",
   "name": "python",
   "nbconvert_exporter": "python",
   "pygments_lexer": "ipython2",
   "version": "2.7.14"
  }
 },
 "nbformat": 4,
 "nbformat_minor": 2
}
